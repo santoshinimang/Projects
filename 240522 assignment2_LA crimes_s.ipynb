{
 "cells": [
  {
   "cell_type": "code",
   "execution_count": 0,
   "metadata": {
    "application/vnd.databricks.v1+cell": {
     "cellMetadata": {
      "byteLimit": 2048000,
      "rowLimit": 10000
     },
     "inputWidgets": {},
     "nuid": "a1f00bfc-4723-461d-91d6-2ce47c5c1b6c",
     "showTitle": false,
     "title": ""
    }
   },
   "outputs": [
    {
     "output_type": "display_data",
     "data": {
      "text/plain": [
       "\u001B[0;36m  File \u001B[0;32m<command-1537322207944533>, line 1\u001B[0;36m\u001B[0m\n",
       "\u001B[0;31m    -- 1. What is the date range reported in this data set?\u001B[0m\n",
       "\u001B[0m          ^\u001B[0m\n",
       "\u001B[0;31mSyntaxError\u001B[0m\u001B[0;31m:\u001B[0m invalid syntax\n"
      ]
     },
     "metadata": {
      "application/vnd.databricks.v1+output": {
       "addedWidgets": {},
       "arguments": {},
       "datasetInfos": [],
       "jupyterProps": {
        "ename": "SyntaxError",
        "evalue": "invalid syntax (command-1537322207944533-1532323188, line 1)"
       },
       "metadata": {
        "errorSummary": "<span class='ansi-red-fg'>SyntaxError</span>: invalid syntax (command-1537322207944533-1532323188, line 1)"
       },
       "removedWidgets": [],
       "sqlProps": null,
       "stackFrames": [
        "\u001B[0;36m  File \u001B[0;32m<command-1537322207944533>, line 1\u001B[0;36m\u001B[0m\n\u001B[0;31m    -- 1. What is the date range reported in this data set?\u001B[0m\n\u001B[0m          ^\u001B[0m\n\u001B[0;31mSyntaxError\u001B[0m\u001B[0;31m:\u001B[0m invalid syntax\n"
       ],
       "type": "baseError"
      }
     },
     "output_type": "display_data"
    }
   ],
   "source": [
    "-- 1. What is the date range reported in this data set? \n",
    "\n",
    "# 2. Which crime saw the most increase in 2021 compared to 2020? \n",
    "##### Expected columns - year, crime description, crime reported in 2021, crime reported in 2022, increase in crimes\n",
    "\n",
    "# Additional detail: Dataset reports different types of crimes each year. I want to find out which crime saw the most increase from year Covid start year of 2020 to 2021?\n",
    "\n",
    "# ---------\n",
    "\n",
    "# 3. For above question, would your answer change if the increase in crime in reported in % increase in crimes vs. total increase in crimes (i.e. just number)?\n",
    "##### Expected columns - year, crime description, crime reported in 2021, crime reported in 2022, % increase in crimes\n",
    "\n",
    "# ---------\n",
    "\n",
    "# 4. Imagine a year has four seasons - \n",
    "    # > Winter: Jan - Mar\n",
    "    # > Spring: Apr - Jun \n",
    "    # > Summer: Jul - Sep \n",
    "    # > Fall: Oct - Dec\n",
    "# For the year 2022, what are the top three crime by each season?\n",
    "\n",
    "##### Expected columns - Year, Season (i.e Winter, Spring), Crime description, crime count, Rank of crime (in top 3)\n",
    "\n",
    "# Sample output (not real data) - \n",
    "# 2022    Winter  Theft 2000 1\n",
    "# 2022    Winter  Break-in 1000 2\n",
    "# 2022    Winter  Car Jacking 500 3\n",
    "# ....remaining 3 seasons.......\n",
    "\n",
    "# ---------\n",
    "\n",
    "# 5. What are the top three crimes faced by this age bracket in 2022: 20-29; 30-39; 40-49; 50-59 (the age of the perpetrator is within that age bracket)\n",
    "\n",
    "##### Expected columns - Year, Age Bracket, Crime Description, crime count, Rank of crime\n",
    "\n",
    "# Sample output (not real data) - \n",
    "# 2022 20-29    Theft   2000 1\n",
    "# 2022 20-29    Break-in   1000 2\n",
    "# 2022 20-29    Car Jacking   500 3\n",
    "# ....remaining age brackets .......\n",
    "# ---------\n",
    "# 6. Show the top three crimes that occured on the street for years 2022-2023? (Hint: Show top three crimes by year). \n",
    "\n",
    "##### Expected columns - Year, Crime Description, crime count, Rank of crime\n",
    "\n",
    "# Sample output (not real data) - \n",
    "# 2022 Auto Theft 1000 1\n",
    "# 2022 Retail Theft 500 2\n",
    "# 2022 Break-in 100 3\n"
   ]
  },
  {
   "cell_type": "code",
   "execution_count": 0,
   "metadata": {
    "application/vnd.databricks.v1+cell": {
     "cellMetadata": {
      "byteLimit": 2048000,
      "rowLimit": 10000
     },
     "inputWidgets": {},
     "nuid": "6bf10a73-9cab-4b7f-be6e-e45e61f267f7",
     "showTitle": false,
     "title": ""
    }
   },
   "outputs": [],
   "source": [
    "\n",
    "# boilerplate\n",
    "\n",
    "from pyspark.sql import *\n",
    "from pyspark.sql.functions import *\n",
    "from pyspark.sql.window import *\n",
    "\n",
    "# create spark session\n",
    "# /Workspace/Users/datakraft867@gmail.com/books.csv\n",
    "spark = SparkSession.builder.appName(\"la_crime_query\").getOrCreate()\n",
    "la_df = spark.read.csv(\"/Volumes/datakraft_batch1/default/datasets/la_crime_data.csv\", header=True, inferSchema=True)"
   ]
  },
  {
   "cell_type": "code",
   "execution_count": 0,
   "metadata": {
    "application/vnd.databricks.v1+cell": {
     "cellMetadata": {
      "byteLimit": 2048000,
      "rowLimit": 10000
     },
     "inputWidgets": {},
     "nuid": "34e46afb-b4e6-4363-aefb-0d3c27624490",
     "showTitle": false,
     "title": ""
    }
   },
   "outputs": [
    {
     "output_type": "execute_result",
     "data": {
      "text/plain": [
       "726531"
      ]
     },
     "execution_count": 2,
     "metadata": {},
     "output_type": "execute_result"
    }
   ],
   "source": [
    "la_df.count()"
   ]
  },
  {
   "cell_type": "code",
   "execution_count": 0,
   "metadata": {
    "application/vnd.databricks.v1+cell": {
     "cellMetadata": {
      "byteLimit": 2048000,
      "rowLimit": 10000
     },
     "inputWidgets": {},
     "nuid": "270ed414-ae4a-409e-9340-cc76e869a2e9",
     "showTitle": false,
     "title": ""
    }
   },
   "outputs": [],
   "source": [
    "la_df.createOrReplaceTempView(\"la_tbl\")"
   ]
  },
  {
   "cell_type": "code",
   "execution_count": 0,
   "metadata": {
    "application/vnd.databricks.v1+cell": {
     "cellMetadata": {
      "byteLimit": 2048000,
      "implicitDf": true,
      "rowLimit": 10000
     },
     "inputWidgets": {},
     "nuid": "c134685f-5d29-4f9e-8447-c83e590c6d71",
     "showTitle": false,
     "title": ""
    }
   },
   "outputs": [
    {
     "output_type": "display_data",
     "data": {
      "text/html": [
       "<style scoped>\n",
       "  .table-result-container {\n",
       "    max-height: 300px;\n",
       "    overflow: auto;\n",
       "  }\n",
       "  table, th, td {\n",
       "    border: 1px solid black;\n",
       "    border-collapse: collapse;\n",
       "  }\n",
       "  th, td {\n",
       "    padding: 5px;\n",
       "  }\n",
       "  th {\n",
       "    text-align: left;\n",
       "  }\n",
       "</style><div class='table-result-container'><table class='table-result'><thead style='background-color: white'><tr><th>DR_NO</th><th>Date Rptd</th><th>DATE OCC</th><th>TIME OCC</th><th>AREA</th><th>AREA NAME</th><th>Rpt Dist No</th><th>Part 1-2</th><th>Crm Cd</th><th>Crm Cd Desc</th><th>Mocodes</th><th>Vict Age</th><th>Vict Sex</th><th>Vict Descent</th><th>Premis Cd</th><th>Premis Desc</th><th>Weapon Used Cd</th><th>Weapon Desc</th><th>Status</th><th>Status Desc</th><th>Crm Cd 1</th><th>Crm Cd 2</th><th>Crm Cd 3</th><th>Crm Cd 4</th><th>LOCATION</th><th>Cross Street</th><th>LAT</th><th>LON</th></tr></thead><tbody><tr><td>10304468</td><td>01/08/2020 12:00:00 AM</td><td>01/08/2020 12:00:00 AM</td><td>2230</td><td>3</td><td>Southwest</td><td>377</td><td>2</td><td>624</td><td>BATTERY - SIMPLE ASSAULT</td><td>0444 0913</td><td>36</td><td>F</td><td>B</td><td>501</td><td>SINGLE FAMILY DWELLING</td><td>400</td><td>STRONG-ARM (HANDS, FIST, FEET OR BODILY FORCE)</td><td>AO</td><td>Adult Other</td><td>624</td><td>null</td><td>null</td><td>null</td><td>1100 W  39TH                         PL</td><td>null</td><td>34.0141</td><td>-118.2978</td></tr><tr><td>190101086</td><td>01/02/2020 12:00:00 AM</td><td>01/01/2020 12:00:00 AM</td><td>330</td><td>1</td><td>Central</td><td>163</td><td>2</td><td>624</td><td>BATTERY - SIMPLE ASSAULT</td><td>0416 1822 1414</td><td>25</td><td>M</td><td>H</td><td>102</td><td>SIDEWALK</td><td>500</td><td>UNKNOWN WEAPON/OTHER WEAPON</td><td>IC</td><td>Invest Cont</td><td>624</td><td>null</td><td>null</td><td>null</td><td>700 S  HILL                         ST</td><td>null</td><td>34.0459</td><td>-118.2545</td></tr><tr><td>200110444</td><td>04/14/2020 12:00:00 AM</td><td>02/13/2020 12:00:00 AM</td><td>1200</td><td>1</td><td>Central</td><td>155</td><td>2</td><td>845</td><td>SEX OFFENDER REGISTRANT OUT OF COMPLIANCE</td><td>1501</td><td>0</td><td>X</td><td>X</td><td>726</td><td>POLICE FACILITY</td><td>null</td><td>null</td><td>AA</td><td>Adult Arrest</td><td>845</td><td>null</td><td>null</td><td>null</td><td>200 E  6TH                          ST</td><td>null</td><td>34.0448</td><td>-118.2474</td></tr><tr><td>191501505</td><td>01/01/2020 12:00:00 AM</td><td>01/01/2020 12:00:00 AM</td><td>1730</td><td>15</td><td>N Hollywood</td><td>1543</td><td>2</td><td>745</td><td>VANDALISM - MISDEAMEANOR ($399 OR UNDER)</td><td>0329 1402</td><td>76</td><td>F</td><td>W</td><td>502</td><td>MULTI-UNIT DWELLING (APARTMENT, DUPLEX, ETC)</td><td>null</td><td>null</td><td>IC</td><td>Invest Cont</td><td>745</td><td>998</td><td>null</td><td>null</td><td>5400    CORTEEN                      PL</td><td>null</td><td>34.1685</td><td>-118.4019</td></tr><tr><td>191921269</td><td>01/01/2020 12:00:00 AM</td><td>01/01/2020 12:00:00 AM</td><td>415</td><td>19</td><td>Mission</td><td>1998</td><td>2</td><td>740</td><td>VANDALISM - FELONY ($400 & OVER, ALL CHURCH VANDALISMS)</td><td>0329</td><td>31</td><td>X</td><td>X</td><td>409</td><td>BEAUTY SUPPLY STORE</td><td>null</td><td>null</td><td>IC</td><td>Invest Cont</td><td>740</td><td>null</td><td>null</td><td>null</td><td>14400    TITUS                        ST</td><td>null</td><td>34.2198</td><td>-118.4468</td></tr><tr><td>200100501</td><td>01/02/2020 12:00:00 AM</td><td>01/01/2020 12:00:00 AM</td><td>30</td><td>1</td><td>Central</td><td>163</td><td>1</td><td>121</td><td>RAPE, FORCIBLE</td><td>0413 1822 1262 1415</td><td>25</td><td>F</td><td>H</td><td>735</td><td>NIGHT CLUB (OPEN EVENINGS ONLY)</td><td>500</td><td>UNKNOWN WEAPON/OTHER WEAPON</td><td>IC</td><td>Invest Cont</td><td>121</td><td>998</td><td>null</td><td>null</td><td>700 S  BROADWAY</td><td>null</td><td>34.0452</td><td>-118.2534</td></tr><tr><td>200100502</td><td>01/02/2020 12:00:00 AM</td><td>01/02/2020 12:00:00 AM</td><td>1315</td><td>1</td><td>Central</td><td>161</td><td>1</td><td>442</td><td>SHOPLIFTING - PETTY THEFT ($950 & UNDER)</td><td>1402 2004 0344 0387</td><td>23</td><td>M</td><td>H</td><td>404</td><td>DEPARTMENT STORE</td><td>null</td><td>null</td><td>IC</td><td>Invest Cont</td><td>442</td><td>998</td><td>null</td><td>null</td><td>700 S  FIGUEROA                     ST</td><td>null</td><td>34.0483</td><td>-118.2631</td></tr><tr><td>200100504</td><td>01/04/2020 12:00:00 AM</td><td>01/04/2020 12:00:00 AM</td><td>40</td><td>1</td><td>Central</td><td>155</td><td>2</td><td>946</td><td>OTHER MISCELLANEOUS CRIME</td><td>1402 0392</td><td>0</td><td>X</td><td>X</td><td>726</td><td>POLICE FACILITY</td><td>null</td><td>null</td><td>IC</td><td>Invest Cont</td><td>946</td><td>998</td><td>null</td><td>null</td><td>200 E  6TH                          ST</td><td>null</td><td>34.0448</td><td>-118.2474</td></tr><tr><td>200100507</td><td>01/04/2020 12:00:00 AM</td><td>01/04/2020 12:00:00 AM</td><td>200</td><td>1</td><td>Central</td><td>101</td><td>1</td><td>341</td><td>THEFT-GRAND ($950.01 & OVER)EXCPT,GUNS,FOWL,LIVESTK,PROD</td><td>1822 0344 1402</td><td>23</td><td>M</td><td>B</td><td>502</td><td>MULTI-UNIT DWELLING (APARTMENT, DUPLEX, ETC)</td><td>null</td><td>null</td><td>IC</td><td>Invest Cont</td><td>341</td><td>998</td><td>null</td><td>null</td><td>700    BERNARD                      ST</td><td>null</td><td>34.0677</td><td>-118.2398</td></tr><tr><td>201710201</td><td>06/19/2020 12:00:00 AM</td><td>05/26/2020 12:00:00 AM</td><td>1925</td><td>17</td><td>Devonshire</td><td>1708</td><td>1</td><td>341</td><td>THEFT-GRAND ($950.01 & OVER)EXCPT,GUNS,FOWL,LIVESTK,PROD</td><td>1300 0202 0378 0325</td><td>0</td><td>X</td><td>X</td><td>203</td><td>OTHER BUSINESS</td><td>null</td><td>null</td><td>AO</td><td>Adult Other</td><td>341</td><td>null</td><td>null</td><td>null</td><td>11900    BALBOA                       BL</td><td>null</td><td>34.2864</td><td>-118.5021</td></tr></tbody></table></div>"
      ]
     },
     "metadata": {
      "application/vnd.databricks.v1+output": {
       "addedWidgets": {},
       "aggData": [],
       "aggError": "",
       "aggOverflow": false,
       "aggSchema": [],
       "aggSeriesLimitReached": false,
       "aggType": "",
       "arguments": {},
       "columnCustomDisplayInfos": {},
       "data": [
        [
         10304468,
         "01/08/2020 12:00:00 AM",
         "01/08/2020 12:00:00 AM",
         2230,
         3,
         "Southwest",
         377,
         2,
         624,
         "BATTERY - SIMPLE ASSAULT",
         "0444 0913",
         36,
         "F",
         "B",
         501,
         "SINGLE FAMILY DWELLING",
         400,
         "STRONG-ARM (HANDS, FIST, FEET OR BODILY FORCE)",
         "AO",
         "Adult Other",
         624,
         null,
         null,
         null,
         "1100 W  39TH                         PL",
         null,
         34.0141,
         -118.2978
        ],
        [
         190101086,
         "01/02/2020 12:00:00 AM",
         "01/01/2020 12:00:00 AM",
         330,
         1,
         "Central",
         163,
         2,
         624,
         "BATTERY - SIMPLE ASSAULT",
         "0416 1822 1414",
         25,
         "M",
         "H",
         102,
         "SIDEWALK",
         500,
         "UNKNOWN WEAPON/OTHER WEAPON",
         "IC",
         "Invest Cont",
         624,
         null,
         null,
         null,
         "700 S  HILL                         ST",
         null,
         34.0459,
         -118.2545
        ],
        [
         200110444,
         "04/14/2020 12:00:00 AM",
         "02/13/2020 12:00:00 AM",
         1200,
         1,
         "Central",
         155,
         2,
         845,
         "SEX OFFENDER REGISTRANT OUT OF COMPLIANCE",
         "1501",
         0,
         "X",
         "X",
         726,
         "POLICE FACILITY",
         null,
         null,
         "AA",
         "Adult Arrest",
         845,
         null,
         null,
         null,
         "200 E  6TH                          ST",
         null,
         34.0448,
         -118.2474
        ],
        [
         191501505,
         "01/01/2020 12:00:00 AM",
         "01/01/2020 12:00:00 AM",
         1730,
         15,
         "N Hollywood",
         1543,
         2,
         745,
         "VANDALISM - MISDEAMEANOR ($399 OR UNDER)",
         "0329 1402",
         76,
         "F",
         "W",
         502,
         "MULTI-UNIT DWELLING (APARTMENT, DUPLEX, ETC)",
         null,
         null,
         "IC",
         "Invest Cont",
         745,
         998,
         null,
         null,
         "5400    CORTEEN                      PL",
         null,
         34.1685,
         -118.4019
        ],
        [
         191921269,
         "01/01/2020 12:00:00 AM",
         "01/01/2020 12:00:00 AM",
         415,
         19,
         "Mission",
         1998,
         2,
         740,
         "VANDALISM - FELONY ($400 & OVER, ALL CHURCH VANDALISMS)",
         "0329",
         31,
         "X",
         "X",
         409,
         "BEAUTY SUPPLY STORE",
         null,
         null,
         "IC",
         "Invest Cont",
         740,
         null,
         null,
         null,
         "14400    TITUS                        ST",
         null,
         34.2198,
         -118.4468
        ],
        [
         200100501,
         "01/02/2020 12:00:00 AM",
         "01/01/2020 12:00:00 AM",
         30,
         1,
         "Central",
         163,
         1,
         121,
         "RAPE, FORCIBLE",
         "0413 1822 1262 1415",
         25,
         "F",
         "H",
         735,
         "NIGHT CLUB (OPEN EVENINGS ONLY)",
         500,
         "UNKNOWN WEAPON/OTHER WEAPON",
         "IC",
         "Invest Cont",
         121,
         998,
         null,
         null,
         "700 S  BROADWAY",
         null,
         34.0452,
         -118.2534
        ],
        [
         200100502,
         "01/02/2020 12:00:00 AM",
         "01/02/2020 12:00:00 AM",
         1315,
         1,
         "Central",
         161,
         1,
         442,
         "SHOPLIFTING - PETTY THEFT ($950 & UNDER)",
         "1402 2004 0344 0387",
         23,
         "M",
         "H",
         404,
         "DEPARTMENT STORE",
         null,
         null,
         "IC",
         "Invest Cont",
         442,
         998,
         null,
         null,
         "700 S  FIGUEROA                     ST",
         null,
         34.0483,
         -118.2631
        ],
        [
         200100504,
         "01/04/2020 12:00:00 AM",
         "01/04/2020 12:00:00 AM",
         40,
         1,
         "Central",
         155,
         2,
         946,
         "OTHER MISCELLANEOUS CRIME",
         "1402 0392",
         0,
         "X",
         "X",
         726,
         "POLICE FACILITY",
         null,
         null,
         "IC",
         "Invest Cont",
         946,
         998,
         null,
         null,
         "200 E  6TH                          ST",
         null,
         34.0448,
         -118.2474
        ],
        [
         200100507,
         "01/04/2020 12:00:00 AM",
         "01/04/2020 12:00:00 AM",
         200,
         1,
         "Central",
         101,
         1,
         341,
         "THEFT-GRAND ($950.01 & OVER)EXCPT,GUNS,FOWL,LIVESTK,PROD",
         "1822 0344 1402",
         23,
         "M",
         "B",
         502,
         "MULTI-UNIT DWELLING (APARTMENT, DUPLEX, ETC)",
         null,
         null,
         "IC",
         "Invest Cont",
         341,
         998,
         null,
         null,
         "700    BERNARD                      ST",
         null,
         34.0677,
         -118.2398
        ],
        [
         201710201,
         "06/19/2020 12:00:00 AM",
         "05/26/2020 12:00:00 AM",
         1925,
         17,
         "Devonshire",
         1708,
         1,
         341,
         "THEFT-GRAND ($950.01 & OVER)EXCPT,GUNS,FOWL,LIVESTK,PROD",
         "1300 0202 0378 0325",
         0,
         "X",
         "X",
         203,
         "OTHER BUSINESS",
         null,
         null,
         "AO",
         "Adult Other",
         341,
         null,
         null,
         null,
         "11900    BALBOA                       BL",
         null,
         34.2864,
         -118.5021
        ]
       ],
       "datasetInfos": [
        {
         "name": "_sqldf",
         "schema": {
          "fields": [
           {
            "metadata": {},
            "name": "DR_NO",
            "nullable": true,
            "type": "integer"
           },
           {
            "metadata": {},
            "name": "Date Rptd",
            "nullable": true,
            "type": "string"
           },
           {
            "metadata": {},
            "name": "DATE OCC",
            "nullable": true,
            "type": "string"
           },
           {
            "metadata": {},
            "name": "TIME OCC",
            "nullable": true,
            "type": "integer"
           },
           {
            "metadata": {},
            "name": "AREA",
            "nullable": true,
            "type": "integer"
           },
           {
            "metadata": {},
            "name": "AREA NAME",
            "nullable": true,
            "type": "string"
           },
           {
            "metadata": {},
            "name": "Rpt Dist No",
            "nullable": true,
            "type": "integer"
           },
           {
            "metadata": {},
            "name": "Part 1-2",
            "nullable": true,
            "type": "integer"
           },
           {
            "metadata": {},
            "name": "Crm Cd",
            "nullable": true,
            "type": "integer"
           },
           {
            "metadata": {},
            "name": "Crm Cd Desc",
            "nullable": true,
            "type": "string"
           },
           {
            "metadata": {},
            "name": "Mocodes",
            "nullable": true,
            "type": "string"
           },
           {
            "metadata": {},
            "name": "Vict Age",
            "nullable": true,
            "type": "integer"
           },
           {
            "metadata": {},
            "name": "Vict Sex",
            "nullable": true,
            "type": "string"
           },
           {
            "metadata": {},
            "name": "Vict Descent",
            "nullable": true,
            "type": "string"
           },
           {
            "metadata": {},
            "name": "Premis Cd",
            "nullable": true,
            "type": "integer"
           },
           {
            "metadata": {},
            "name": "Premis Desc",
            "nullable": true,
            "type": "string"
           },
           {
            "metadata": {},
            "name": "Weapon Used Cd",
            "nullable": true,
            "type": "integer"
           },
           {
            "metadata": {},
            "name": "Weapon Desc",
            "nullable": true,
            "type": "string"
           },
           {
            "metadata": {},
            "name": "Status",
            "nullable": true,
            "type": "string"
           },
           {
            "metadata": {},
            "name": "Status Desc",
            "nullable": true,
            "type": "string"
           },
           {
            "metadata": {},
            "name": "Crm Cd 1",
            "nullable": true,
            "type": "integer"
           },
           {
            "metadata": {},
            "name": "Crm Cd 2",
            "nullable": true,
            "type": "integer"
           },
           {
            "metadata": {},
            "name": "Crm Cd 3",
            "nullable": true,
            "type": "integer"
           },
           {
            "metadata": {},
            "name": "Crm Cd 4",
            "nullable": true,
            "type": "integer"
           },
           {
            "metadata": {},
            "name": "LOCATION",
            "nullable": true,
            "type": "string"
           },
           {
            "metadata": {},
            "name": "Cross Street",
            "nullable": true,
            "type": "string"
           },
           {
            "metadata": {},
            "name": "LAT",
            "nullable": true,
            "type": "double"
           },
           {
            "metadata": {},
            "name": "LON",
            "nullable": true,
            "type": "double"
           }
          ],
          "type": "struct"
         },
         "tableIdentifier": null,
         "typeStr": "pyspark.sql.connect.dataframe.DataFrame"
        }
       ],
       "dbfsResultPath": null,
       "isJsonSchema": true,
       "metadata": {
        "dataframeName": "_sqldf",
        "executionCount": 4
       },
       "overflow": false,
       "plotOptions": {
        "customPlotOptions": {},
        "displayType": "table",
        "pivotAggregation": null,
        "pivotColumns": null,
        "xColumns": null,
        "yColumns": null
       },
       "removedWidgets": [],
       "schema": [
        {
         "metadata": "{}",
         "name": "DR_NO",
         "type": "\"integer\""
        },
        {
         "metadata": "{}",
         "name": "Date Rptd",
         "type": "\"string\""
        },
        {
         "metadata": "{}",
         "name": "DATE OCC",
         "type": "\"string\""
        },
        {
         "metadata": "{}",
         "name": "TIME OCC",
         "type": "\"integer\""
        },
        {
         "metadata": "{}",
         "name": "AREA",
         "type": "\"integer\""
        },
        {
         "metadata": "{}",
         "name": "AREA NAME",
         "type": "\"string\""
        },
        {
         "metadata": "{}",
         "name": "Rpt Dist No",
         "type": "\"integer\""
        },
        {
         "metadata": "{}",
         "name": "Part 1-2",
         "type": "\"integer\""
        },
        {
         "metadata": "{}",
         "name": "Crm Cd",
         "type": "\"integer\""
        },
        {
         "metadata": "{}",
         "name": "Crm Cd Desc",
         "type": "\"string\""
        },
        {
         "metadata": "{}",
         "name": "Mocodes",
         "type": "\"string\""
        },
        {
         "metadata": "{}",
         "name": "Vict Age",
         "type": "\"integer\""
        },
        {
         "metadata": "{}",
         "name": "Vict Sex",
         "type": "\"string\""
        },
        {
         "metadata": "{}",
         "name": "Vict Descent",
         "type": "\"string\""
        },
        {
         "metadata": "{}",
         "name": "Premis Cd",
         "type": "\"integer\""
        },
        {
         "metadata": "{}",
         "name": "Premis Desc",
         "type": "\"string\""
        },
        {
         "metadata": "{}",
         "name": "Weapon Used Cd",
         "type": "\"integer\""
        },
        {
         "metadata": "{}",
         "name": "Weapon Desc",
         "type": "\"string\""
        },
        {
         "metadata": "{}",
         "name": "Status",
         "type": "\"string\""
        },
        {
         "metadata": "{}",
         "name": "Status Desc",
         "type": "\"string\""
        },
        {
         "metadata": "{}",
         "name": "Crm Cd 1",
         "type": "\"integer\""
        },
        {
         "metadata": "{}",
         "name": "Crm Cd 2",
         "type": "\"integer\""
        },
        {
         "metadata": "{}",
         "name": "Crm Cd 3",
         "type": "\"integer\""
        },
        {
         "metadata": "{}",
         "name": "Crm Cd 4",
         "type": "\"integer\""
        },
        {
         "metadata": "{}",
         "name": "LOCATION",
         "type": "\"string\""
        },
        {
         "metadata": "{}",
         "name": "Cross Street",
         "type": "\"string\""
        },
        {
         "metadata": "{}",
         "name": "LAT",
         "type": "\"double\""
        },
        {
         "metadata": "{}",
         "name": "LON",
         "type": "\"double\""
        }
       ],
       "type": "table"
      }
     },
     "output_type": "display_data"
    }
   ],
   "source": [
    "%sql\n",
    "\n",
    "SELECT * FROM la_tbl limit 10;"
   ]
  },
  {
   "cell_type": "code",
   "execution_count": 0,
   "metadata": {
    "application/vnd.databricks.v1+cell": {
     "cellMetadata": {
      "byteLimit": 2048000,
      "implicitDf": true,
      "rowLimit": 10000
     },
     "collapsed": true,
     "inputWidgets": {},
     "nuid": "740556ae-1b60-4f55-af3d-51e01bec5c3a",
     "showTitle": false,
     "title": ""
    }
   },
   "outputs": [
    {
     "output_type": "display_data",
     "data": {
      "text/html": [
       "<style scoped>\n",
       "  .table-result-container {\n",
       "    max-height: 300px;\n",
       "    overflow: auto;\n",
       "  }\n",
       "  table, th, td {\n",
       "    border: 1px solid black;\n",
       "    border-collapse: collapse;\n",
       "  }\n",
       "  th, td {\n",
       "    padding: 5px;\n",
       "  }\n",
       "  th {\n",
       "    text-align: left;\n",
       "  }\n",
       "</style><div class='table-result-container'><table class='table-result'><thead style='background-color: white'><tr><th>count(1)</th></tr></thead><tbody><tr><td>726531</td></tr></tbody></table></div>"
      ]
     },
     "metadata": {
      "application/vnd.databricks.v1+output": {
       "addedWidgets": {},
       "aggData": [],
       "aggError": "",
       "aggOverflow": false,
       "aggSchema": [],
       "aggSeriesLimitReached": false,
       "aggType": "",
       "arguments": {},
       "columnCustomDisplayInfos": {},
       "data": [
        [
         726531
        ]
       ],
       "datasetInfos": [
        {
         "name": "_sqldf",
         "schema": {
          "fields": [
           {
            "metadata": {
             "__autoGeneratedAlias": "true"
            },
            "name": "count(1)",
            "nullable": false,
            "type": "long"
           }
          ],
          "type": "struct"
         },
         "tableIdentifier": null,
         "typeStr": "pyspark.sql.connect.dataframe.DataFrame"
        }
       ],
       "dbfsResultPath": null,
       "isJsonSchema": true,
       "metadata": {
        "dataframeName": "_sqldf",
        "executionCount": 5
       },
       "overflow": false,
       "plotOptions": {
        "customPlotOptions": {},
        "displayType": "table",
        "pivotAggregation": null,
        "pivotColumns": null,
        "xColumns": null,
        "yColumns": null
       },
       "removedWidgets": [],
       "schema": [
        {
         "metadata": "{\"__autoGeneratedAlias\":\"true\"}",
         "name": "count(1)",
         "type": "\"long\""
        }
       ],
       "type": "table"
      }
     },
     "output_type": "display_data"
    }
   ],
   "source": [
    "%sql\n",
    "\n",
    "SELECT COUNT(*) FROM la_tbl;"
   ]
  },
  {
   "cell_type": "code",
   "execution_count": 0,
   "metadata": {
    "application/vnd.databricks.v1+cell": {
     "cellMetadata": {
      "byteLimit": 2048000,
      "implicitDf": true,
      "rowLimit": 10000
     },
     "collapsed": true,
     "inputWidgets": {},
     "nuid": "91093665-c5bc-4a01-b717-0dea02912c1c",
     "showTitle": false,
     "title": ""
    }
   },
   "outputs": [
    {
     "output_type": "display_data",
     "data": {
      "text/html": [
       "<style scoped>\n",
       "  .table-result-container {\n",
       "    max-height: 300px;\n",
       "    overflow: auto;\n",
       "  }\n",
       "  table, th, td {\n",
       "    border: 1px solid black;\n",
       "    border-collapse: collapse;\n",
       "  }\n",
       "  th, td {\n",
       "    padding: 5px;\n",
       "  }\n",
       "  th {\n",
       "    text-align: left;\n",
       "  }\n",
       "</style><div class='table-result-container'><table class='table-result'><thead style='background-color: white'><tr><th>cnt</th></tr></thead><tbody><tr><td>726531</td></tr></tbody></table></div>"
      ]
     },
     "metadata": {
      "application/vnd.databricks.v1+output": {
       "addedWidgets": {},
       "aggData": [],
       "aggError": "",
       "aggOverflow": false,
       "aggSchema": [],
       "aggSeriesLimitReached": false,
       "aggType": "",
       "arguments": {},
       "columnCustomDisplayInfos": {},
       "data": [
        [
         726531
        ]
       ],
       "datasetInfos": [
        {
         "name": "_sqldf",
         "schema": {
          "fields": [
           {
            "metadata": {},
            "name": "cnt",
            "nullable": false,
            "type": "long"
           }
          ],
          "type": "struct"
         },
         "tableIdentifier": null,
         "typeStr": "pyspark.sql.connect.dataframe.DataFrame"
        }
       ],
       "dbfsResultPath": null,
       "isJsonSchema": true,
       "metadata": {
        "dataframeName": "_sqldf",
        "executionCount": 6
       },
       "overflow": false,
       "plotOptions": {
        "customPlotOptions": {},
        "displayType": "table",
        "pivotAggregation": null,
        "pivotColumns": null,
        "xColumns": null,
        "yColumns": null
       },
       "removedWidgets": [],
       "schema": [
        {
         "metadata": "{}",
         "name": "cnt",
         "type": "\"long\""
        }
       ],
       "type": "table"
      }
     },
     "output_type": "display_data"
    }
   ],
   "source": [
    "%sql\n",
    "\n",
    "SELECT COUNT(DISTINCT DR_NO) as cnt FROM la_tbl;"
   ]
  },
  {
   "cell_type": "code",
   "execution_count": 0,
   "metadata": {
    "application/vnd.databricks.v1+cell": {
     "cellMetadata": {
      "byteLimit": 2048000,
      "rowLimit": 10000
     },
     "collapsed": true,
     "inputWidgets": {},
     "nuid": "5a79e53d-4d98-42d0-a884-2070d7518711",
     "showTitle": false,
     "title": ""
    }
   },
   "outputs": [
    {
     "output_type": "stream",
     "name": "stdout",
     "output_type": "stream",
     "text": [
      "root\n |-- DR_NO: integer (nullable = true)\n |-- Date Rptd: string (nullable = true)\n |-- DATE OCC: string (nullable = true)\n |-- TIME OCC: integer (nullable = true)\n |-- AREA: integer (nullable = true)\n |-- AREA NAME: string (nullable = true)\n |-- Rpt Dist No: integer (nullable = true)\n |-- Part 1-2: integer (nullable = true)\n |-- Crm Cd: integer (nullable = true)\n |-- Crm Cd Desc: string (nullable = true)\n |-- Mocodes: string (nullable = true)\n |-- Vict Age: integer (nullable = true)\n |-- Vict Sex: string (nullable = true)\n |-- Vict Descent: string (nullable = true)\n |-- Premis Cd: integer (nullable = true)\n |-- Premis Desc: string (nullable = true)\n |-- Weapon Used Cd: integer (nullable = true)\n |-- Weapon Desc: string (nullable = true)\n |-- Status: string (nullable = true)\n |-- Status Desc: string (nullable = true)\n |-- Crm Cd 1: integer (nullable = true)\n |-- Crm Cd 2: integer (nullable = true)\n |-- Crm Cd 3: integer (nullable = true)\n |-- Crm Cd 4: integer (nullable = true)\n |-- LOCATION: string (nullable = true)\n |-- Cross Street: string (nullable = true)\n |-- LAT: double (nullable = true)\n |-- LON: double (nullable = true)\n\n"
     ]
    }
   ],
   "source": [
    "la_df.printSchema()"
   ]
  },
  {
   "cell_type": "code",
   "execution_count": 0,
   "metadata": {
    "application/vnd.databricks.v1+cell": {
     "cellMetadata": {
      "byteLimit": 2048000,
      "rowLimit": 10000
     },
     "inputWidgets": {},
     "nuid": "6d95fcc0-5102-4b18-93da-c94d0295a1f5",
     "showTitle": false,
     "title": ""
    }
   },
   "outputs": [
    {
     "output_type": "execute_result",
     "data": {
      "text/plain": [
       "DataFrame[]"
      ]
     },
     "execution_count": 137,
     "metadata": {},
     "output_type": "execute_result"
    }
   ],
   "source": [
    "# Reviewing the questions above, I don't need all the columns in the dataset but only a few. Hence I'm creating a new data set with only the relevant columns and adding columns for year, month, date_reported based on Date Rptd. Columns I'm including - \n",
    "# date_reported (based on Date Rptd)\n",
    "# DR_NO, renamed as crime_rpt_no. This is the primary key for the dataset, see above analysis to confirm. \n",
    "# Crm Cd Desc, renamed as crime_desc\n",
    "# month, based on Date Rptd\n",
    "# Season, based on month\n",
    "\n",
    "# new dataset \n",
    "spark.sql(\"\"\"\n",
    "          \n",
    "          CREATE OR REPLACE TEMP VIEW la_crime_vw AS\n",
    "          WITH CTE1 AS (\n",
    "          SELECT \n",
    "           to_date(LEFT(`Date Rptd`, 10), 'MM/dd/yyyy') AS date_reported,\n",
    "           month(to_date(LEFT(`Date Rptd`, 10), 'MM/dd/yyyy')) AS crime_month,\n",
    "           year(to_date(LEFT(`Date Rptd`, 10), 'MM/dd/yyyy')) AS crime_year,\n",
    "           DR_NO AS crime_rpt_no,\n",
    "           `Crm Cd Desc` AS crime_desc,\n",
    "           `Vict Age` AS vict_age\n",
    "          FROM  la_tbl\n",
    "          )\n",
    "          SELECT \n",
    "          *,\n",
    "          CASE \n",
    "          WHEN crime_month BETWEEN 1 and 3 THEN 'winter'\n",
    "          WHEN crime_month BETWEEN 4 and 6 THEN 'spring'\n",
    "          WHEN crime_month BETWEEN 7 and 9 THEN 'summer'\n",
    "          ELSE 'fall' END AS season\n",
    "          FROM CTE1\n",
    "          \"\"\")"
   ]
  },
  {
   "cell_type": "code",
   "execution_count": 0,
   "metadata": {
    "application/vnd.databricks.v1+cell": {
     "cellMetadata": {
      "byteLimit": 2048000,
      "implicitDf": true,
      "rowLimit": 10000
     },
     "collapsed": true,
     "inputWidgets": {},
     "nuid": "92340309-0b94-46af-8593-15d6cb69673b",
     "showTitle": false,
     "title": ""
    }
   },
   "outputs": [
    {
     "output_type": "display_data",
     "data": {
      "text/html": [
       "<style scoped>\n",
       "  .table-result-container {\n",
       "    max-height: 300px;\n",
       "    overflow: auto;\n",
       "  }\n",
       "  table, th, td {\n",
       "    border: 1px solid black;\n",
       "    border-collapse: collapse;\n",
       "  }\n",
       "  th, td {\n",
       "    padding: 5px;\n",
       "  }\n",
       "  th {\n",
       "    text-align: left;\n",
       "  }\n",
       "</style><div class='table-result-container'><table class='table-result'><thead style='background-color: white'><tr><th>earliest_crime_year</th><th>latest_crime_year</th></tr></thead><tbody><tr><td>2020</td><td>2023</td></tr></tbody></table></div>"
      ]
     },
     "metadata": {
      "application/vnd.databricks.v1+output": {
       "addedWidgets": {},
       "aggData": [],
       "aggError": "",
       "aggOverflow": false,
       "aggSchema": [],
       "aggSeriesLimitReached": false,
       "aggType": "",
       "arguments": {},
       "columnCustomDisplayInfos": {},
       "data": [
        [
         2020,
         2023
        ]
       ],
       "datasetInfos": [
        {
         "name": "_sqldf",
         "schema": {
          "fields": [
           {
            "metadata": {},
            "name": "earliest_crime_year",
            "nullable": true,
            "type": "integer"
           },
           {
            "metadata": {},
            "name": "latest_crime_year",
            "nullable": true,
            "type": "integer"
           }
          ],
          "type": "struct"
         },
         "tableIdentifier": null,
         "typeStr": "pyspark.sql.connect.dataframe.DataFrame"
        }
       ],
       "dbfsResultPath": null,
       "isJsonSchema": true,
       "metadata": {
        "dataframeName": "_sqldf",
        "executionCount": 9
       },
       "overflow": false,
       "plotOptions": {
        "customPlotOptions": {},
        "displayType": "table",
        "pivotAggregation": null,
        "pivotColumns": null,
        "xColumns": null,
        "yColumns": null
       },
       "removedWidgets": [],
       "schema": [
        {
         "metadata": "{}",
         "name": "earliest_crime_year",
         "type": "\"integer\""
        },
        {
         "metadata": "{}",
         "name": "latest_crime_year",
         "type": "\"integer\""
        }
       ],
       "type": "table"
      }
     },
     "output_type": "display_data"
    }
   ],
   "source": [
    "%sql\n",
    "-- 1. What is the date range reported in this data set? \n",
    "\n",
    "SELECT \n",
    "MIN(crime_year) AS earliest_crime_year,\n",
    "MAX(crime_year) AS latest_crime_year\n",
    "FROM la_crime_vw"
   ]
  },
  {
   "cell_type": "code",
   "execution_count": 0,
   "metadata": {
    "application/vnd.databricks.v1+cell": {
     "cellMetadata": {
      "byteLimit": 2048000,
      "implicitDf": true,
      "rowLimit": 10000
     },
     "inputWidgets": {},
     "nuid": "ce1182e5-d37b-4eff-9816-8f8e83365ea3",
     "showTitle": false,
     "title": ""
    }
   },
   "outputs": [
    {
     "output_type": "display_data",
     "data": {
      "text/html": [
       "<style scoped>\n",
       "  .table-result-container {\n",
       "    max-height: 300px;\n",
       "    overflow: auto;\n",
       "  }\n",
       "  table, th, td {\n",
       "    border: 1px solid black;\n",
       "    border-collapse: collapse;\n",
       "  }\n",
       "  th, td {\n",
       "    padding: 5px;\n",
       "  }\n",
       "  th {\n",
       "    text-align: left;\n",
       "  }\n",
       "</style><div class='table-result-container'><table class='table-result'><thead style='background-color: white'><tr><th>crime_year</th><th>count(crime_desc)</th></tr></thead><tbody><tr><td>2020</td><td>192700</td></tr><tr><td>2021</td><td>208286</td></tr><tr><td>2022</td><td>235065</td></tr><tr><td>2023</td><td>90480</td></tr></tbody></table></div>"
      ]
     },
     "metadata": {
      "application/vnd.databricks.v1+output": {
       "addedWidgets": {},
       "aggData": [],
       "aggError": "",
       "aggOverflow": false,
       "aggSchema": [],
       "aggSeriesLimitReached": false,
       "aggType": "",
       "arguments": {},
       "columnCustomDisplayInfos": {},
       "data": [
        [
         2020,
         192700
        ],
        [
         2021,
         208286
        ],
        [
         2022,
         235065
        ],
        [
         2023,
         90480
        ]
       ],
       "datasetInfos": [
        {
         "name": "_sqldf",
         "schema": {
          "fields": [
           {
            "metadata": {},
            "name": "crime_year",
            "nullable": true,
            "type": "integer"
           },
           {
            "metadata": {
             "__autoGeneratedAlias": "true"
            },
            "name": "count(crime_desc)",
            "nullable": false,
            "type": "long"
           }
          ],
          "type": "struct"
         },
         "tableIdentifier": null,
         "typeStr": "pyspark.sql.connect.dataframe.DataFrame"
        }
       ],
       "dbfsResultPath": null,
       "isJsonSchema": true,
       "metadata": {
        "dataframeName": "_sqldf",
        "executionCount": 90
       },
       "overflow": false,
       "plotOptions": {
        "customPlotOptions": {},
        "displayType": "table",
        "pivotAggregation": null,
        "pivotColumns": null,
        "xColumns": null,
        "yColumns": null
       },
       "removedWidgets": [],
       "schema": [
        {
         "metadata": "{}",
         "name": "crime_year",
         "type": "\"integer\""
        },
        {
         "metadata": "{\"__autoGeneratedAlias\":\"true\"}",
         "name": "count(crime_desc)",
         "type": "\"long\""
        }
       ],
       "type": "table"
      }
     },
     "output_type": "display_data"
    }
   ],
   "source": [
    "%sql\n",
    "\n",
    "--total crimes according to years\n",
    "\n",
    "SELECT crime_year,\n",
    "count(`crime_desc`) \n",
    "FROM la_crime_vw\n",
    "group by crime_year\n",
    "order by crime_year"
   ]
  },
  {
   "cell_type": "code",
   "execution_count": 0,
   "metadata": {
    "application/vnd.databricks.v1+cell": {
     "cellMetadata": {
      "byteLimit": 2048000,
      "implicitDf": true,
      "rowLimit": 10000
     },
     "collapsed": true,
     "inputWidgets": {},
     "nuid": "3f6a5b51-7684-4f6c-9d6d-b0b60253230d",
     "showTitle": false,
     "title": ""
    }
   },
   "outputs": [
    {
     "output_type": "display_data",
     "data": {
      "text/html": [
       "<style scoped>\n",
       "  .table-result-container {\n",
       "    max-height: 300px;\n",
       "    overflow: auto;\n",
       "  }\n",
       "  table, th, td {\n",
       "    border: 1px solid black;\n",
       "    border-collapse: collapse;\n",
       "  }\n",
       "  th, td {\n",
       "    padding: 5px;\n",
       "  }\n",
       "  th {\n",
       "    text-align: left;\n",
       "  }\n",
       "</style><div class='table-result-container'><table class='table-result'><thead style='background-color: white'><tr><th>crime_description</th><th>crime_cnt_2020</th><th>crime_cnt_2021</th><th>increase_in_crimes</th></tr></thead><tbody><tr><td>THEFT OF IDENTITY</td><td>6466</td><td>10788</td><td>4322</td></tr><tr><td>VEHICLE - STOLEN</td><td>20429</td><td>23617</td><td>3188</td></tr><tr><td>THEFT FROM MOTOR VEHICLE - GRAND ($950.01 AND OVER)</td><td>4657</td><td>7476</td><td>2819</td></tr><tr><td>THEFT-GRAND ($950.01 & OVER)EXCPT,GUNS,FOWL,LIVESTK,PROD</td><td>5185</td><td>6625</td><td>1440</td></tr><tr><td>ASSAULT WITH DEADLY WEAPON, AGGRAVATED ASSAULT</td><td>11488</td><td>12717</td><td>1229</td></tr><tr><td>BURGLARY FROM VEHICLE</td><td>12487</td><td>13476</td><td>989</td></tr><tr><td>VANDALISM - FELONY ($400 & OVER, ALL CHURCH VANDALISMS)</td><td>12737</td><td>13676</td><td>939</td></tr><tr><td>THEFT PLAIN - PETTY ($950 & UNDER)</td><td>10444</td><td>11171</td><td>727</td></tr><tr><td>LETTERS, LEWD  -  TELEPHONE CALLS, LEWD</td><td>1375</td><td>1925</td><td>550</td></tr><tr><td>ROBBERY</td><td>6877</td><td>7330</td><td>453</td></tr><tr><td>BRANDISH WEAPON</td><td>3074</td><td>3370</td><td>296</td></tr><tr><td>INTIMATE PARTNER - AGGRAVATED ASSAULT</td><td>2836</td><td>3062</td><td>226</td></tr><tr><td>RAPE, FORCIBLE</td><td>724</td><td>900</td><td>176</td></tr><tr><td>BIKE - STOLEN</td><td>1986</td><td>2156</td><td>170</td></tr><tr><td>VIOLATION OF RESTRAINING ORDER</td><td>2594</td><td>2722</td><td>128</td></tr><tr><td>VIOLATION OF COURT ORDER</td><td>1375</td><td>1502</td><td>127</td></tr><tr><td>CRIMINAL THREATS - NO WEAPON DISPLAYED</td><td>4146</td><td>4269</td><td>123</td></tr><tr><td>SHOPLIFTING-GRAND THEFT ($950.01 & OVER)</td><td>510</td><td>628</td><td>118</td></tr><tr><td>CRM AGNST CHLD (13 OR UNDER) (14-15 & SUSP 10 YRS OLDER)</td><td>300</td><td>414</td><td>114</td></tr><tr><td>DISCHARGE FIREARMS/SHOTS FIRED</td><td>578</td><td>687</td><td>109</td></tr><tr><td>CONTEMPT OF COURT</td><td>566</td><td>675</td><td>109</td></tr><tr><td>VEHICLE - ATTEMPT STOLEN</td><td>516</td><td>624</td><td>108</td></tr><tr><td>VEHICLE, STOLEN - OTHER (MOTORIZED SCOOTERS, BIKES, ETC)</td><td>131</td><td>230</td><td>99</td></tr><tr><td>PICKPOCKET</td><td>52</td><td>140</td><td>88</td></tr><tr><td>SHOTS FIRED AT MOVING VEHICLE, TRAIN OR AIRCRAFT</td><td>78</td><td>162</td><td>84</td></tr><tr><td>VIOLATION OF TEMPORARY RESTRAINING ORDER</td><td>153</td><td>218</td><td>65</td></tr><tr><td>CRIMINAL HOMICIDE</td><td>346</td><td>400</td><td>54</td></tr><tr><td>BUNCO, GRAND THEFT</td><td>1146</td><td>1199</td><td>53</td></tr><tr><td>SEXUAL PENETRATION W/FOREIGN OBJECT</td><td>261</td><td>311</td><td>50</td></tr><tr><td>INTIMATE PARTNER - SIMPLE ASSAULT</td><td>10713</td><td>10758</td><td>45</td></tr><tr><td>STALKING</td><td>105</td><td>148</td><td>43</td></tr><tr><td>CRUELTY TO ANIMALS</td><td>34</td><td>68</td><td>34</td></tr><tr><td>KIDNAPPING</td><td>156</td><td>188</td><td>32</td></tr><tr><td>DOCUMENT FORGERY / STOLEN FELONY</td><td>607</td><td>635</td><td>28</td></tr><tr><td>FAILURE TO YIELD</td><td>251</td><td>279</td><td>28</td></tr><tr><td>EMBEZZLEMENT, GRAND THEFT ($950.01 & OVER)</td><td>777</td><td>804</td><td>27</td></tr><tr><td>BOMB SCARE</td><td>75</td><td>102</td><td>27</td></tr><tr><td>ATTEMPTED ROBBERY</td><td>1119</td><td>1145</td><td>26</td></tr><tr><td>BATTERY WITH SEXUAL CONTACT</td><td>871</td><td>895</td><td>24</td></tr><tr><td>HUMAN TRAFFICKING - INVOLUNTARY SERVITUDE</td><td>10</td><td>34</td><td>24</td></tr><tr><td>RECKLESS DRIVING</td><td>54</td><td>77</td><td>23</td></tr><tr><td>PIMPING</td><td>33</td><td>52</td><td>19</td></tr><tr><td>CHILD ANNOYING (17YRS & UNDER)</td><td>195</td><td>209</td><td>14</td></tr><tr><td>DISTURBING THE PEACE</td><td>309</td><td>322</td><td>13</td></tr><tr><td>THEFT FROM MOTOR VEHICLE - ATTEMPT</td><td>246</td><td>259</td><td>13</td></tr><tr><td>BATTERY ON A FIREFIGHTER</td><td>45</td><td>57</td><td>12</td></tr><tr><td>SODOMY/SEXUAL CONTACT B/W PENIS OF ONE PERS TO ANUS OTH</td><td>108</td><td>120</td><td>12</td></tr><tr><td>CHILD PORNOGRAPHY</td><td>47</td><td>59</td><td>12</td></tr><tr><td>BATTERY POLICE (SIMPLE)</td><td>618</td><td>627</td><td>9</td></tr><tr><td>RAPE, ATTEMPTED</td><td>66</td><td>75</td><td>9</td></tr><tr><td>PANDERING</td><td>26</td><td>34</td><td>8</td></tr><tr><td>DOCUMENT WORTHLESS ($200.01 & OVER)</td><td>8</td><td>16</td><td>8</td></tr><tr><td>INDECENT EXPOSURE</td><td>253</td><td>261</td><td>8</td></tr><tr><td>THEFT FROM PERSON - ATTEMPT</td><td>24</td><td>29</td><td>5</td></tr><tr><td>CREDIT CARDS, FRAUD USE ($950.01 & OVER)</td><td>21</td><td>26</td><td>5</td></tr><tr><td>PEEPING TOM</td><td>75</td><td>80</td><td>5</td></tr><tr><td>LEWD/LASCIVIOUS ACTS WITH CHILD</td><td>17</td><td>21</td><td>4</td></tr><tr><td>TILL TAP - PETTY ($950 & UNDER)</td><td>4</td><td>7</td><td>3</td></tr><tr><td>DISHONEST EMPLOYEE - GRAND THEFT</td><td>7</td><td>10</td><td>3</td></tr><tr><td>THROWING OBJECT AT MOVING VEHICLE</td><td>193</td><td>195</td><td>2</td></tr><tr><td>BRIBERY</td><td>1</td><td>3</td><td>2</td></tr><tr><td>CHILD ABANDONMENT</td><td>3</td><td>5</td><td>2</td></tr><tr><td>SEX,UNLAWFUL(INC MUTUAL CONSENT, PENETRATION W/ FRGN OBJ</td><td>217</td><td>219</td><td>2</td></tr><tr><td>FIREARMS RESTRAINING ORDER (FIREARMS RO)</td><td>1</td><td>2</td><td>1</td></tr><tr><td>WEAPONS POSSESSION/BOMBING</td><td>9</td><td>10</td><td>1</td></tr><tr><td>BIKE - ATTEMPTED STOLEN</td><td>3</td><td>3</td><td>0</td></tr><tr><td>CONSPIRACY</td><td>5</td><td>5</td><td>0</td></tr><tr><td>PICKPOCKET, ATTEMPT</td><td>1</td><td>1</td><td>0</td></tr><tr><td>GRAND THEFT / INSURANCE FRAUD</td><td>2</td><td>2</td><td>0</td></tr><tr><td>MANSLAUGHTER, NEGLIGENT</td><td>3</td><td>3</td><td>0</td></tr><tr><td>DOCUMENT WORTHLESS ($200 & UNDER)</td><td>9</td><td>8</td><td>-1</td></tr><tr><td>DRUNK ROLL</td><td>4</td><td>3</td><td>-1</td></tr><tr><td>PURSE SNATCHING - ATTEMPT</td><td>3</td><td>2</td><td>-1</td></tr><tr><td>RESISTING ARREST</td><td>215</td><td>214</td><td>-1</td></tr><tr><td>THEFT, COIN MACHINE - GRAND ($950.01 & OVER)</td><td>3</td><td>2</td><td>-1</td></tr><tr><td>FALSE POLICE REPORT</td><td>29</td><td>28</td><td>-1</td></tr><tr><td>LEWD CONDUCT</td><td>151</td><td>150</td><td>-1</td></tr><tr><td>TILL TAP - GRAND THEFT ($950.01 & OVER)</td><td>2</td><td>1</td><td>-1</td></tr><tr><td>LYNCHING - ATTEMPTED</td><td>4</td><td>2</td><td>-2</td></tr><tr><td>ILLEGAL DUMPING</td><td>29</td><td>27</td><td>-2</td></tr><tr><td>PETTY THEFT - AUTO REPAIR</td><td>4</td><td>2</td><td>-2</td></tr><tr><td>DRUGS, TO A MINOR</td><td>5</td><td>3</td><td>-2</td></tr><tr><td>DISRUPT SCHOOL</td><td>4</td><td>2</td><td>-2</td></tr><tr><td>COUNTERFEIT</td><td>33</td><td>30</td><td>-3</td></tr><tr><td>REPLICA FIREARMS(SALE,DISPLAY,MANUFACTURE OR DISTRIBUTE)</td><td>5</td><td>2</td><td>-3</td></tr><tr><td>KIDNAPPING - GRAND ATTEMPT</td><td>54</td><td>50</td><td>-4</td></tr><tr><td>DISHONEST EMPLOYEE - PETTY THEFT</td><td>7</td><td>3</td><td>-4</td></tr><tr><td>FALSE IMPRISONMENT</td><td>70</td><td>66</td><td>-4</td></tr><tr><td>ORAL COPULATION</td><td>144</td><td>140</td><td>-4</td></tr><tr><td>THEFT, COIN MACHINE - PETTY ($950 & UNDER)</td><td>8</td><td>4</td><td>-4</td></tr><tr><td>CHILD STEALING</td><td>104</td><td>99</td><td>-5</td></tr><tr><td>BOAT - STOLEN</td><td>30</td><td>24</td><td>-6</td></tr><tr><td>PURSE SNATCHING</td><td>32</td><td>26</td><td>-6</td></tr><tr><td>EMBEZZLEMENT, PETTY THEFT ($950 & UNDER)</td><td>23</td><td>16</td><td>-7</td></tr><tr><td>THREATENING PHONE CALLS/LETTERS</td><td>123</td><td>115</td><td>-8</td></tr><tr><td>CONTRIBUTING</td><td>10</td><td>2</td><td>-8</td></tr><tr><td>DEFRAUDING INNKEEPER/THEFT OF SERVICES, OVER $950.01</td><td>20</td><td>11</td><td>-9</td></tr><tr><td>LYNCHING</td><td>10</td><td>1</td><td>-9</td></tr><tr><td>DRIVING WITHOUT OWNER CONSENT (DWOC)</td><td>49</td><td>40</td><td>-9</td></tr><tr><td>HUMAN TRAFFICKING - COMMERCIAL SEX ACTS</td><td>110</td><td>99</td><td>-11</td></tr><tr><td>PROWLER</td><td>50</td><td>39</td><td>-11</td></tr><tr><td>SHOPLIFTING - ATTEMPT</td><td>30</td><td>18</td><td>-12</td></tr><tr><td>CHILD ABUSE (PHYSICAL) - AGGRAVATED ASSAULT</td><td>144</td><td>132</td><td>-12</td></tr><tr><td>THEFT PLAIN - ATTEMPT</td><td>126</td><td>114</td><td>-12</td></tr><tr><td>BUNCO, ATTEMPT</td><td>84</td><td>72</td><td>-12</td></tr><tr><td>SEX OFFENDER REGISTRANT OUT OF COMPLIANCE</td><td>221</td><td>209</td><td>-12</td></tr><tr><td>CREDIT CARDS, FRAUD USE ($950 & UNDER</td><td>23</td><td>10</td><td>-13</td></tr><tr><td>UNAUTHORIZED COMPUTER ACCESS</td><td>126</td><td>112</td><td>-14</td></tr><tr><td>CHILD NEGLECT (SEE 300 W.I.C.)</td><td>261</td><td>243</td><td>-18</td></tr><tr><td>DEFRAUDING INNKEEPER/THEFT OF SERVICES, $950 & UNDER</td><td>81</td><td>60</td><td>-21</td></tr><tr><td>SHOTS FIRED AT INHABITED DWELLING</td><td>417</td><td>388</td><td>-29</td></tr><tr><td>ARSON</td><td>660</td><td>630</td><td>-30</td></tr><tr><td>BURGLARY FROM VEHICLE, ATTEMPTED</td><td>179</td><td>146</td><td>-33</td></tr><tr><td>OTHER ASSAULT</td><td>1029</td><td>992</td><td>-37</td></tr><tr><td>EXTORTION</td><td>408</td><td>360</td><td>-48</td></tr><tr><td>THEFT, PERSON</td><td>956</td><td>901</td><td>-55</td></tr><tr><td>BATTERY - SIMPLE ASSAULT</td><td>16230</td><td>16156</td><td>-74</td></tr><tr><td>TRESPASSING</td><td>2840</td><td>2766</td><td>-74</td></tr><tr><td>CHILD ABUSE (PHYSICAL) - SIMPLE ASSAULT</td><td>782</td><td>701</td><td>-81</td></tr><tr><td>BURGLARY, ATTEMPTED</td><td>915</td><td>808</td><td>-107</td></tr><tr><td>BUNCO, PETTY THEFT</td><td>552</td><td>437</td><td>-115</td></tr><tr><td>OTHER MISCELLANEOUS CRIME</td><td>1671</td><td>1520</td><td>-151</td></tr><tr><td>ASSAULT WITH DEADLY WEAPON ON POLICE OFFICER</td><td>397</td><td>217</td><td>-180</td></tr><tr><td>BURGLARY</td><td>12482</td><td>12230</td><td>-252</td></tr><tr><td>VANDALISM - MISDEAMEANOR ($399 OR UNDER)</td><td>6906</td><td>6334</td><td>-572</td></tr><tr><td>SHOPLIFTING - PETTY THEFT ($950 & UNDER)</td><td>3522</td><td>2940</td><td>-582</td></tr><tr><td>THEFT FROM MOTOR VEHICLE - PETTY ($950 & UNDER)</td><td>9479</td><td>8251</td><td>-1228</td></tr></tbody></table></div>"
      ]
     },
     "metadata": {
      "application/vnd.databricks.v1+output": {
       "addedWidgets": {},
       "aggData": [],
       "aggError": "",
       "aggOverflow": false,
       "aggSchema": [],
       "aggSeriesLimitReached": false,
       "aggType": "",
       "arguments": {},
       "columnCustomDisplayInfos": {},
       "data": [
        [
         "THEFT OF IDENTITY",
         6466,
         10788,
         4322
        ],
        [
         "VEHICLE - STOLEN",
         20429,
         23617,
         3188
        ],
        [
         "THEFT FROM MOTOR VEHICLE - GRAND ($950.01 AND OVER)",
         4657,
         7476,
         2819
        ],
        [
         "THEFT-GRAND ($950.01 & OVER)EXCPT,GUNS,FOWL,LIVESTK,PROD",
         5185,
         6625,
         1440
        ],
        [
         "ASSAULT WITH DEADLY WEAPON, AGGRAVATED ASSAULT",
         11488,
         12717,
         1229
        ],
        [
         "BURGLARY FROM VEHICLE",
         12487,
         13476,
         989
        ],
        [
         "VANDALISM - FELONY ($400 & OVER, ALL CHURCH VANDALISMS)",
         12737,
         13676,
         939
        ],
        [
         "THEFT PLAIN - PETTY ($950 & UNDER)",
         10444,
         11171,
         727
        ],
        [
         "LETTERS, LEWD  -  TELEPHONE CALLS, LEWD",
         1375,
         1925,
         550
        ],
        [
         "ROBBERY",
         6877,
         7330,
         453
        ],
        [
         "BRANDISH WEAPON",
         3074,
         3370,
         296
        ],
        [
         "INTIMATE PARTNER - AGGRAVATED ASSAULT",
         2836,
         3062,
         226
        ],
        [
         "RAPE, FORCIBLE",
         724,
         900,
         176
        ],
        [
         "BIKE - STOLEN",
         1986,
         2156,
         170
        ],
        [
         "VIOLATION OF RESTRAINING ORDER",
         2594,
         2722,
         128
        ],
        [
         "VIOLATION OF COURT ORDER",
         1375,
         1502,
         127
        ],
        [
         "CRIMINAL THREATS - NO WEAPON DISPLAYED",
         4146,
         4269,
         123
        ],
        [
         "SHOPLIFTING-GRAND THEFT ($950.01 & OVER)",
         510,
         628,
         118
        ],
        [
         "CRM AGNST CHLD (13 OR UNDER) (14-15 & SUSP 10 YRS OLDER)",
         300,
         414,
         114
        ],
        [
         "DISCHARGE FIREARMS/SHOTS FIRED",
         578,
         687,
         109
        ],
        [
         "CONTEMPT OF COURT",
         566,
         675,
         109
        ],
        [
         "VEHICLE - ATTEMPT STOLEN",
         516,
         624,
         108
        ],
        [
         "VEHICLE, STOLEN - OTHER (MOTORIZED SCOOTERS, BIKES, ETC)",
         131,
         230,
         99
        ],
        [
         "PICKPOCKET",
         52,
         140,
         88
        ],
        [
         "SHOTS FIRED AT MOVING VEHICLE, TRAIN OR AIRCRAFT",
         78,
         162,
         84
        ],
        [
         "VIOLATION OF TEMPORARY RESTRAINING ORDER",
         153,
         218,
         65
        ],
        [
         "CRIMINAL HOMICIDE",
         346,
         400,
         54
        ],
        [
         "BUNCO, GRAND THEFT",
         1146,
         1199,
         53
        ],
        [
         "SEXUAL PENETRATION W/FOREIGN OBJECT",
         261,
         311,
         50
        ],
        [
         "INTIMATE PARTNER - SIMPLE ASSAULT",
         10713,
         10758,
         45
        ],
        [
         "STALKING",
         105,
         148,
         43
        ],
        [
         "CRUELTY TO ANIMALS",
         34,
         68,
         34
        ],
        [
         "KIDNAPPING",
         156,
         188,
         32
        ],
        [
         "DOCUMENT FORGERY / STOLEN FELONY",
         607,
         635,
         28
        ],
        [
         "FAILURE TO YIELD",
         251,
         279,
         28
        ],
        [
         "EMBEZZLEMENT, GRAND THEFT ($950.01 & OVER)",
         777,
         804,
         27
        ],
        [
         "BOMB SCARE",
         75,
         102,
         27
        ],
        [
         "ATTEMPTED ROBBERY",
         1119,
         1145,
         26
        ],
        [
         "BATTERY WITH SEXUAL CONTACT",
         871,
         895,
         24
        ],
        [
         "HUMAN TRAFFICKING - INVOLUNTARY SERVITUDE",
         10,
         34,
         24
        ],
        [
         "RECKLESS DRIVING",
         54,
         77,
         23
        ],
        [
         "PIMPING",
         33,
         52,
         19
        ],
        [
         "CHILD ANNOYING (17YRS & UNDER)",
         195,
         209,
         14
        ],
        [
         "DISTURBING THE PEACE",
         309,
         322,
         13
        ],
        [
         "THEFT FROM MOTOR VEHICLE - ATTEMPT",
         246,
         259,
         13
        ],
        [
         "BATTERY ON A FIREFIGHTER",
         45,
         57,
         12
        ],
        [
         "SODOMY/SEXUAL CONTACT B/W PENIS OF ONE PERS TO ANUS OTH",
         108,
         120,
         12
        ],
        [
         "CHILD PORNOGRAPHY",
         47,
         59,
         12
        ],
        [
         "BATTERY POLICE (SIMPLE)",
         618,
         627,
         9
        ],
        [
         "RAPE, ATTEMPTED",
         66,
         75,
         9
        ],
        [
         "PANDERING",
         26,
         34,
         8
        ],
        [
         "DOCUMENT WORTHLESS ($200.01 & OVER)",
         8,
         16,
         8
        ],
        [
         "INDECENT EXPOSURE",
         253,
         261,
         8
        ],
        [
         "THEFT FROM PERSON - ATTEMPT",
         24,
         29,
         5
        ],
        [
         "CREDIT CARDS, FRAUD USE ($950.01 & OVER)",
         21,
         26,
         5
        ],
        [
         "PEEPING TOM",
         75,
         80,
         5
        ],
        [
         "LEWD/LASCIVIOUS ACTS WITH CHILD",
         17,
         21,
         4
        ],
        [
         "TILL TAP - PETTY ($950 & UNDER)",
         4,
         7,
         3
        ],
        [
         "DISHONEST EMPLOYEE - GRAND THEFT",
         7,
         10,
         3
        ],
        [
         "THROWING OBJECT AT MOVING VEHICLE",
         193,
         195,
         2
        ],
        [
         "BRIBERY",
         1,
         3,
         2
        ],
        [
         "CHILD ABANDONMENT",
         3,
         5,
         2
        ],
        [
         "SEX,UNLAWFUL(INC MUTUAL CONSENT, PENETRATION W/ FRGN OBJ",
         217,
         219,
         2
        ],
        [
         "FIREARMS RESTRAINING ORDER (FIREARMS RO)",
         1,
         2,
         1
        ],
        [
         "WEAPONS POSSESSION/BOMBING",
         9,
         10,
         1
        ],
        [
         "BIKE - ATTEMPTED STOLEN",
         3,
         3,
         0
        ],
        [
         "CONSPIRACY",
         5,
         5,
         0
        ],
        [
         "PICKPOCKET, ATTEMPT",
         1,
         1,
         0
        ],
        [
         "GRAND THEFT / INSURANCE FRAUD",
         2,
         2,
         0
        ],
        [
         "MANSLAUGHTER, NEGLIGENT",
         3,
         3,
         0
        ],
        [
         "DOCUMENT WORTHLESS ($200 & UNDER)",
         9,
         8,
         -1
        ],
        [
         "DRUNK ROLL",
         4,
         3,
         -1
        ],
        [
         "PURSE SNATCHING - ATTEMPT",
         3,
         2,
         -1
        ],
        [
         "RESISTING ARREST",
         215,
         214,
         -1
        ],
        [
         "THEFT, COIN MACHINE - GRAND ($950.01 & OVER)",
         3,
         2,
         -1
        ],
        [
         "FALSE POLICE REPORT",
         29,
         28,
         -1
        ],
        [
         "LEWD CONDUCT",
         151,
         150,
         -1
        ],
        [
         "TILL TAP - GRAND THEFT ($950.01 & OVER)",
         2,
         1,
         -1
        ],
        [
         "LYNCHING - ATTEMPTED",
         4,
         2,
         -2
        ],
        [
         "ILLEGAL DUMPING",
         29,
         27,
         -2
        ],
        [
         "PETTY THEFT - AUTO REPAIR",
         4,
         2,
         -2
        ],
        [
         "DRUGS, TO A MINOR",
         5,
         3,
         -2
        ],
        [
         "DISRUPT SCHOOL",
         4,
         2,
         -2
        ],
        [
         "COUNTERFEIT",
         33,
         30,
         -3
        ],
        [
         "REPLICA FIREARMS(SALE,DISPLAY,MANUFACTURE OR DISTRIBUTE)",
         5,
         2,
         -3
        ],
        [
         "KIDNAPPING - GRAND ATTEMPT",
         54,
         50,
         -4
        ],
        [
         "DISHONEST EMPLOYEE - PETTY THEFT",
         7,
         3,
         -4
        ],
        [
         "FALSE IMPRISONMENT",
         70,
         66,
         -4
        ],
        [
         "ORAL COPULATION",
         144,
         140,
         -4
        ],
        [
         "THEFT, COIN MACHINE - PETTY ($950 & UNDER)",
         8,
         4,
         -4
        ],
        [
         "CHILD STEALING",
         104,
         99,
         -5
        ],
        [
         "BOAT - STOLEN",
         30,
         24,
         -6
        ],
        [
         "PURSE SNATCHING",
         32,
         26,
         -6
        ],
        [
         "EMBEZZLEMENT, PETTY THEFT ($950 & UNDER)",
         23,
         16,
         -7
        ],
        [
         "THREATENING PHONE CALLS/LETTERS",
         123,
         115,
         -8
        ],
        [
         "CONTRIBUTING",
         10,
         2,
         -8
        ],
        [
         "DEFRAUDING INNKEEPER/THEFT OF SERVICES, OVER $950.01",
         20,
         11,
         -9
        ],
        [
         "LYNCHING",
         10,
         1,
         -9
        ],
        [
         "DRIVING WITHOUT OWNER CONSENT (DWOC)",
         49,
         40,
         -9
        ],
        [
         "HUMAN TRAFFICKING - COMMERCIAL SEX ACTS",
         110,
         99,
         -11
        ],
        [
         "PROWLER",
         50,
         39,
         -11
        ],
        [
         "SHOPLIFTING - ATTEMPT",
         30,
         18,
         -12
        ],
        [
         "CHILD ABUSE (PHYSICAL) - AGGRAVATED ASSAULT",
         144,
         132,
         -12
        ],
        [
         "THEFT PLAIN - ATTEMPT",
         126,
         114,
         -12
        ],
        [
         "BUNCO, ATTEMPT",
         84,
         72,
         -12
        ],
        [
         "SEX OFFENDER REGISTRANT OUT OF COMPLIANCE",
         221,
         209,
         -12
        ],
        [
         "CREDIT CARDS, FRAUD USE ($950 & UNDER",
         23,
         10,
         -13
        ],
        [
         "UNAUTHORIZED COMPUTER ACCESS",
         126,
         112,
         -14
        ],
        [
         "CHILD NEGLECT (SEE 300 W.I.C.)",
         261,
         243,
         -18
        ],
        [
         "DEFRAUDING INNKEEPER/THEFT OF SERVICES, $950 & UNDER",
         81,
         60,
         -21
        ],
        [
         "SHOTS FIRED AT INHABITED DWELLING",
         417,
         388,
         -29
        ],
        [
         "ARSON",
         660,
         630,
         -30
        ],
        [
         "BURGLARY FROM VEHICLE, ATTEMPTED",
         179,
         146,
         -33
        ],
        [
         "OTHER ASSAULT",
         1029,
         992,
         -37
        ],
        [
         "EXTORTION",
         408,
         360,
         -48
        ],
        [
         "THEFT, PERSON",
         956,
         901,
         -55
        ],
        [
         "BATTERY - SIMPLE ASSAULT",
         16230,
         16156,
         -74
        ],
        [
         "TRESPASSING",
         2840,
         2766,
         -74
        ],
        [
         "CHILD ABUSE (PHYSICAL) - SIMPLE ASSAULT",
         782,
         701,
         -81
        ],
        [
         "BURGLARY, ATTEMPTED",
         915,
         808,
         -107
        ],
        [
         "BUNCO, PETTY THEFT",
         552,
         437,
         -115
        ],
        [
         "OTHER MISCELLANEOUS CRIME",
         1671,
         1520,
         -151
        ],
        [
         "ASSAULT WITH DEADLY WEAPON ON POLICE OFFICER",
         397,
         217,
         -180
        ],
        [
         "BURGLARY",
         12482,
         12230,
         -252
        ],
        [
         "VANDALISM - MISDEAMEANOR ($399 OR UNDER)",
         6906,
         6334,
         -572
        ],
        [
         "SHOPLIFTING - PETTY THEFT ($950 & UNDER)",
         3522,
         2940,
         -582
        ],
        [
         "THEFT FROM MOTOR VEHICLE - PETTY ($950 & UNDER)",
         9479,
         8251,
         -1228
        ]
       ],
       "datasetInfos": [
        {
         "name": "_sqldf",
         "schema": {
          "fields": [
           {
            "metadata": {},
            "name": "crime_description",
            "nullable": true,
            "type": "string"
           },
           {
            "metadata": {},
            "name": "crime_cnt_2020",
            "nullable": false,
            "type": "long"
           },
           {
            "metadata": {},
            "name": "crime_cnt_2021",
            "nullable": false,
            "type": "long"
           },
           {
            "metadata": {},
            "name": "increase_in_crimes",
            "nullable": false,
            "type": "long"
           }
          ],
          "type": "struct"
         },
         "tableIdentifier": null,
         "typeStr": "pyspark.sql.connect.dataframe.DataFrame"
        }
       ],
       "dbfsResultPath": null,
       "isJsonSchema": true,
       "metadata": {
        "dataframeName": "_sqldf",
        "executionCount": 109
       },
       "overflow": false,
       "plotOptions": {
        "customPlotOptions": {},
        "displayType": "table",
        "pivotAggregation": null,
        "pivotColumns": null,
        "xColumns": null,
        "yColumns": null
       },
       "removedWidgets": [],
       "schema": [
        {
         "metadata": "{}",
         "name": "crime_description",
         "type": "\"string\""
        },
        {
         "metadata": "{}",
         "name": "crime_cnt_2020",
         "type": "\"long\""
        },
        {
         "metadata": "{}",
         "name": "crime_cnt_2021",
         "type": "\"long\""
        },
        {
         "metadata": "{}",
         "name": "increase_in_crimes",
         "type": "\"long\""
        }
       ],
       "type": "table"
      }
     },
     "output_type": "display_data"
    }
   ],
   "source": [
    "%sql\n",
    "-- 2. Which crime saw the most increase in 2021 compared to 2020? \n",
    "-- Expected columns - year, crime description, crime reported in 2020, crime reported in 2021, increase in crimes\n",
    "\n",
    "-- Additional detail: Dataset reports different types of crimes each year. I want to find out which crime saw the most increase from year Covid start year of 2020 to 2021?\n",
    "\n",
    "with cte1 as (\n",
    "  select crime_year, crime_desc as crimes_2020, count(crime_rpt_no) as crime_cnt_2020\n",
    "  from la_crime_vw\n",
    "  where crime_year = 2020\n",
    "  group by crime_year, crime_desc\n",
    "),\n",
    "cte2 as (\n",
    "  select crime_year, crime_desc as crimes_2021, count(crime_rpt_no) as crime_cnt_2021\n",
    "  from la_crime_vw\n",
    "  where crime_year = 2021\n",
    "  group by crime_year, crime_desc\n",
    ")\n",
    "select distinct cte1.crimes_2020 as crime_description, cte1.crime_cnt_2020, cte2.crime_cnt_2021,((cte2.crime_cnt_2021)-(cte1.crime_cnt_2020)) as increase_in_crimes\n",
    "from cte1 join cte2\n",
    "on cte1.crimes_2020 = cte2.crimes_2021\n",
    "group by crime_description, cte1.crime_cnt_2020, cte2.crime_cnt_2021\n",
    "order by increase_in_crimes desc\n",
    "\n"
   ]
  },
  {
   "cell_type": "code",
   "execution_count": 0,
   "metadata": {
    "application/vnd.databricks.v1+cell": {
     "cellMetadata": {
      "byteLimit": 2048000,
      "implicitDf": true,
      "rowLimit": 10000
     },
     "inputWidgets": {},
     "nuid": "0d4a580a-83fd-44ce-ac31-9f6cfecdc313",
     "showTitle": false,
     "title": ""
    }
   },
   "outputs": [
    {
     "output_type": "display_data",
     "data": {
      "text/html": [
       "<style scoped>\n",
       "  .table-result-container {\n",
       "    max-height: 300px;\n",
       "    overflow: auto;\n",
       "  }\n",
       "  table, th, td {\n",
       "    border: 1px solid black;\n",
       "    border-collapse: collapse;\n",
       "  }\n",
       "  th, td {\n",
       "    padding: 5px;\n",
       "  }\n",
       "  th {\n",
       "    text-align: left;\n",
       "  }\n",
       "</style><div class='table-result-container'><table class='table-result'><thead style='background-color: white'><tr><th>crime_description</th><th>crime_cnt_2020</th><th>crime_cnt_2021</th><th>percentage_increase_in_crimes</th></tr></thead><tbody><tr><td>HUMAN TRAFFICKING - INVOLUNTARY SERVITUDE</td><td>10</td><td>34</td><td>240.0</td></tr><tr><td>BRIBERY</td><td>1</td><td>3</td><td>200.0</td></tr><tr><td>PICKPOCKET</td><td>52</td><td>140</td><td>169.23</td></tr><tr><td>SHOTS FIRED AT MOVING VEHICLE, TRAIN OR AIRCRAFT</td><td>78</td><td>162</td><td>107.69</td></tr><tr><td>FIREARMS RESTRAINING ORDER (FIREARMS RO)</td><td>1</td><td>2</td><td>100.0</td></tr><tr><td>DOCUMENT WORTHLESS ($200.01 & OVER)</td><td>8</td><td>16</td><td>100.0</td></tr><tr><td>CRUELTY TO ANIMALS</td><td>34</td><td>68</td><td>100.0</td></tr><tr><td>VEHICLE, STOLEN - OTHER (MOTORIZED SCOOTERS, BIKES, ETC)</td><td>131</td><td>230</td><td>75.57</td></tr><tr><td>TILL TAP - PETTY ($950 & UNDER)</td><td>4</td><td>7</td><td>75.0</td></tr><tr><td>THEFT OF IDENTITY</td><td>6466</td><td>10788</td><td>66.84</td></tr><tr><td>CHILD ABANDONMENT</td><td>3</td><td>5</td><td>66.67</td></tr><tr><td>THEFT FROM MOTOR VEHICLE - GRAND ($950.01 AND OVER)</td><td>4657</td><td>7476</td><td>60.53</td></tr><tr><td>PIMPING</td><td>33</td><td>52</td><td>57.58</td></tr><tr><td>DISHONEST EMPLOYEE - GRAND THEFT</td><td>7</td><td>10</td><td>42.86</td></tr><tr><td>RECKLESS DRIVING</td><td>54</td><td>77</td><td>42.59</td></tr><tr><td>VIOLATION OF TEMPORARY RESTRAINING ORDER</td><td>153</td><td>218</td><td>42.48</td></tr><tr><td>STALKING</td><td>105</td><td>148</td><td>40.95</td></tr><tr><td>LETTERS, LEWD  -  TELEPHONE CALLS, LEWD</td><td>1375</td><td>1925</td><td>40.0</td></tr><tr><td>CRM AGNST CHLD (13 OR UNDER) (14-15 & SUSP 10 YRS OLDER)</td><td>300</td><td>414</td><td>38.0</td></tr><tr><td>BOMB SCARE</td><td>75</td><td>102</td><td>36.0</td></tr><tr><td>PANDERING</td><td>26</td><td>34</td><td>30.77</td></tr><tr><td>THEFT-GRAND ($950.01 & OVER)EXCPT,GUNS,FOWL,LIVESTK,PROD</td><td>5185</td><td>6625</td><td>27.77</td></tr><tr><td>BATTERY ON A FIREFIGHTER</td><td>45</td><td>57</td><td>26.67</td></tr><tr><td>CHILD PORNOGRAPHY</td><td>47</td><td>59</td><td>25.53</td></tr><tr><td>RAPE, FORCIBLE</td><td>724</td><td>900</td><td>24.31</td></tr><tr><td>CREDIT CARDS, FRAUD USE ($950.01 & OVER)</td><td>21</td><td>26</td><td>23.81</td></tr><tr><td>LEWD/LASCIVIOUS ACTS WITH CHILD</td><td>17</td><td>21</td><td>23.53</td></tr><tr><td>SHOPLIFTING-GRAND THEFT ($950.01 & OVER)</td><td>510</td><td>628</td><td>23.14</td></tr><tr><td>VEHICLE - ATTEMPT STOLEN</td><td>516</td><td>624</td><td>20.93</td></tr><tr><td>THEFT FROM PERSON - ATTEMPT</td><td>24</td><td>29</td><td>20.83</td></tr><tr><td>KIDNAPPING</td><td>156</td><td>188</td><td>20.51</td></tr><tr><td>CONTEMPT OF COURT</td><td>566</td><td>675</td><td>19.26</td></tr><tr><td>SEXUAL PENETRATION W/FOREIGN OBJECT</td><td>261</td><td>311</td><td>19.16</td></tr><tr><td>DISCHARGE FIREARMS/SHOTS FIRED</td><td>578</td><td>687</td><td>18.86</td></tr><tr><td>VEHICLE - STOLEN</td><td>20429</td><td>23617</td><td>15.61</td></tr><tr><td>CRIMINAL HOMICIDE</td><td>346</td><td>400</td><td>15.61</td></tr><tr><td>RAPE, ATTEMPTED</td><td>66</td><td>75</td><td>13.64</td></tr><tr><td>FAILURE TO YIELD</td><td>251</td><td>279</td><td>11.16</td></tr><tr><td>SODOMY/SEXUAL CONTACT B/W PENIS OF ONE PERS TO ANUS OTH</td><td>108</td><td>120</td><td>11.11</td></tr><tr><td>WEAPONS POSSESSION/BOMBING</td><td>9</td><td>10</td><td>11.11</td></tr><tr><td>ASSAULT WITH DEADLY WEAPON, AGGRAVATED ASSAULT</td><td>11488</td><td>12717</td><td>10.7</td></tr><tr><td>BRANDISH WEAPON</td><td>3074</td><td>3370</td><td>9.63</td></tr><tr><td>VIOLATION OF COURT ORDER</td><td>1375</td><td>1502</td><td>9.24</td></tr><tr><td>BIKE - STOLEN</td><td>1986</td><td>2156</td><td>8.56</td></tr><tr><td>INTIMATE PARTNER - AGGRAVATED ASSAULT</td><td>2836</td><td>3062</td><td>7.97</td></tr><tr><td>BURGLARY FROM VEHICLE</td><td>12487</td><td>13476</td><td>7.92</td></tr><tr><td>VANDALISM - FELONY ($400 & OVER, ALL CHURCH VANDALISMS)</td><td>12737</td><td>13676</td><td>7.37</td></tr><tr><td>CHILD ANNOYING (17YRS & UNDER)</td><td>195</td><td>209</td><td>7.18</td></tr><tr><td>THEFT PLAIN - PETTY ($950 & UNDER)</td><td>10444</td><td>11171</td><td>6.96</td></tr><tr><td>PEEPING TOM</td><td>75</td><td>80</td><td>6.67</td></tr><tr><td>ROBBERY</td><td>6877</td><td>7330</td><td>6.59</td></tr><tr><td>THEFT FROM MOTOR VEHICLE - ATTEMPT</td><td>246</td><td>259</td><td>5.28</td></tr><tr><td>VIOLATION OF RESTRAINING ORDER</td><td>2594</td><td>2722</td><td>4.93</td></tr><tr><td>BUNCO, GRAND THEFT</td><td>1146</td><td>1199</td><td>4.62</td></tr><tr><td>DOCUMENT FORGERY / STOLEN FELONY</td><td>607</td><td>635</td><td>4.61</td></tr><tr><td>DISTURBING THE PEACE</td><td>309</td><td>322</td><td>4.21</td></tr><tr><td>EMBEZZLEMENT, GRAND THEFT ($950.01 & OVER)</td><td>777</td><td>804</td><td>3.47</td></tr><tr><td>INDECENT EXPOSURE</td><td>253</td><td>261</td><td>3.16</td></tr><tr><td>CRIMINAL THREATS - NO WEAPON DISPLAYED</td><td>4146</td><td>4269</td><td>2.97</td></tr><tr><td>BATTERY WITH SEXUAL CONTACT</td><td>871</td><td>895</td><td>2.76</td></tr><tr><td>ATTEMPTED ROBBERY</td><td>1119</td><td>1145</td><td>2.32</td></tr><tr><td>BATTERY POLICE (SIMPLE)</td><td>618</td><td>627</td><td>1.46</td></tr><tr><td>THROWING OBJECT AT MOVING VEHICLE</td><td>193</td><td>195</td><td>1.04</td></tr><tr><td>SEX,UNLAWFUL(INC MUTUAL CONSENT, PENETRATION W/ FRGN OBJ</td><td>217</td><td>219</td><td>0.92</td></tr><tr><td>INTIMATE PARTNER - SIMPLE ASSAULT</td><td>10713</td><td>10758</td><td>0.42</td></tr><tr><td>BIKE - ATTEMPTED STOLEN</td><td>3</td><td>3</td><td>0.0</td></tr><tr><td>CONSPIRACY</td><td>5</td><td>5</td><td>0.0</td></tr><tr><td>PICKPOCKET, ATTEMPT</td><td>1</td><td>1</td><td>0.0</td></tr><tr><td>GRAND THEFT / INSURANCE FRAUD</td><td>2</td><td>2</td><td>0.0</td></tr><tr><td>MANSLAUGHTER, NEGLIGENT</td><td>3</td><td>3</td><td>0.0</td></tr><tr><td>BATTERY - SIMPLE ASSAULT</td><td>16230</td><td>16156</td><td>-0.46</td></tr><tr><td>RESISTING ARREST</td><td>215</td><td>214</td><td>-0.47</td></tr><tr><td>LEWD CONDUCT</td><td>151</td><td>150</td><td>-0.66</td></tr><tr><td>BURGLARY</td><td>12482</td><td>12230</td><td>-2.02</td></tr><tr><td>TRESPASSING</td><td>2840</td><td>2766</td><td>-2.61</td></tr><tr><td>ORAL COPULATION</td><td>144</td><td>140</td><td>-2.78</td></tr><tr><td>FALSE POLICE REPORT</td><td>29</td><td>28</td><td>-3.45</td></tr><tr><td>OTHER ASSAULT</td><td>1029</td><td>992</td><td>-3.6</td></tr><tr><td>ARSON</td><td>660</td><td>630</td><td>-4.55</td></tr><tr><td>CHILD STEALING</td><td>104</td><td>99</td><td>-4.81</td></tr><tr><td>SEX OFFENDER REGISTRANT OUT OF COMPLIANCE</td><td>221</td><td>209</td><td>-5.43</td></tr><tr><td>FALSE IMPRISONMENT</td><td>70</td><td>66</td><td>-5.71</td></tr><tr><td>THEFT, PERSON</td><td>956</td><td>901</td><td>-5.75</td></tr><tr><td>THREATENING PHONE CALLS/LETTERS</td><td>123</td><td>115</td><td>-6.5</td></tr><tr><td>CHILD NEGLECT (SEE 300 W.I.C.)</td><td>261</td><td>243</td><td>-6.9</td></tr><tr><td>ILLEGAL DUMPING</td><td>29</td><td>27</td><td>-6.9</td></tr><tr><td>SHOTS FIRED AT INHABITED DWELLING</td><td>417</td><td>388</td><td>-6.95</td></tr><tr><td>KIDNAPPING - GRAND ATTEMPT</td><td>54</td><td>50</td><td>-7.41</td></tr><tr><td>VANDALISM - MISDEAMEANOR ($399 OR UNDER)</td><td>6906</td><td>6334</td><td>-8.28</td></tr><tr><td>CHILD ABUSE (PHYSICAL) - AGGRAVATED ASSAULT</td><td>144</td><td>132</td><td>-8.33</td></tr><tr><td>OTHER MISCELLANEOUS CRIME</td><td>1671</td><td>1520</td><td>-9.04</td></tr><tr><td>COUNTERFEIT</td><td>33</td><td>30</td><td>-9.09</td></tr><tr><td>THEFT PLAIN - ATTEMPT</td><td>126</td><td>114</td><td>-9.52</td></tr><tr><td>HUMAN TRAFFICKING - COMMERCIAL SEX ACTS</td><td>110</td><td>99</td><td>-10.0</td></tr><tr><td>CHILD ABUSE (PHYSICAL) - SIMPLE ASSAULT</td><td>782</td><td>701</td><td>-10.36</td></tr><tr><td>DOCUMENT WORTHLESS ($200 & UNDER)</td><td>9</td><td>8</td><td>-11.11</td></tr><tr><td>UNAUTHORIZED COMPUTER ACCESS</td><td>126</td><td>112</td><td>-11.11</td></tr><tr><td>BURGLARY, ATTEMPTED</td><td>915</td><td>808</td><td>-11.69</td></tr><tr><td>EXTORTION</td><td>408</td><td>360</td><td>-11.76</td></tr><tr><td>THEFT FROM MOTOR VEHICLE - PETTY ($950 & UNDER)</td><td>9479</td><td>8251</td><td>-12.95</td></tr><tr><td>BUNCO, ATTEMPT</td><td>84</td><td>72</td><td>-14.29</td></tr><tr><td>SHOPLIFTING - PETTY THEFT ($950 & UNDER)</td><td>3522</td><td>2940</td><td>-16.52</td></tr><tr><td>DRIVING WITHOUT OWNER CONSENT (DWOC)</td><td>49</td><td>40</td><td>-18.37</td></tr><tr><td>BURGLARY FROM VEHICLE, ATTEMPTED</td><td>179</td><td>146</td><td>-18.44</td></tr><tr><td>PURSE SNATCHING</td><td>32</td><td>26</td><td>-18.75</td></tr><tr><td>BOAT - STOLEN</td><td>30</td><td>24</td><td>-20.0</td></tr><tr><td>BUNCO, PETTY THEFT</td><td>552</td><td>437</td><td>-20.83</td></tr><tr><td>PROWLER</td><td>50</td><td>39</td><td>-22.0</td></tr><tr><td>DRUNK ROLL</td><td>4</td><td>3</td><td>-25.0</td></tr><tr><td>DEFRAUDING INNKEEPER/THEFT OF SERVICES, $950 & UNDER</td><td>81</td><td>60</td><td>-25.93</td></tr><tr><td>EMBEZZLEMENT, PETTY THEFT ($950 & UNDER)</td><td>23</td><td>16</td><td>-30.43</td></tr><tr><td>PURSE SNATCHING - ATTEMPT</td><td>3</td><td>2</td><td>-33.33</td></tr><tr><td>THEFT, COIN MACHINE - GRAND ($950.01 & OVER)</td><td>3</td><td>2</td><td>-33.33</td></tr><tr><td>SHOPLIFTING - ATTEMPT</td><td>30</td><td>18</td><td>-40.0</td></tr><tr><td>DRUGS, TO A MINOR</td><td>5</td><td>3</td><td>-40.0</td></tr><tr><td>DEFRAUDING INNKEEPER/THEFT OF SERVICES, OVER $950.01</td><td>20</td><td>11</td><td>-45.0</td></tr><tr><td>ASSAULT WITH DEADLY WEAPON ON POLICE OFFICER</td><td>397</td><td>217</td><td>-45.34</td></tr><tr><td>LYNCHING - ATTEMPTED</td><td>4</td><td>2</td><td>-50.0</td></tr><tr><td>PETTY THEFT - AUTO REPAIR</td><td>4</td><td>2</td><td>-50.0</td></tr><tr><td>DISRUPT SCHOOL</td><td>4</td><td>2</td><td>-50.0</td></tr><tr><td>THEFT, COIN MACHINE - PETTY ($950 & UNDER)</td><td>8</td><td>4</td><td>-50.0</td></tr><tr><td>TILL TAP - GRAND THEFT ($950.01 & OVER)</td><td>2</td><td>1</td><td>-50.0</td></tr><tr><td>CREDIT CARDS, FRAUD USE ($950 & UNDER</td><td>23</td><td>10</td><td>-56.52</td></tr><tr><td>DISHONEST EMPLOYEE - PETTY THEFT</td><td>7</td><td>3</td><td>-57.14</td></tr><tr><td>REPLICA FIREARMS(SALE,DISPLAY,MANUFACTURE OR DISTRIBUTE)</td><td>5</td><td>2</td><td>-60.0</td></tr><tr><td>CONTRIBUTING</td><td>10</td><td>2</td><td>-80.0</td></tr><tr><td>LYNCHING</td><td>10</td><td>1</td><td>-90.0</td></tr></tbody></table></div>"
      ]
     },
     "metadata": {
      "application/vnd.databricks.v1+output": {
       "addedWidgets": {},
       "aggData": [],
       "aggError": "",
       "aggOverflow": false,
       "aggSchema": [],
       "aggSeriesLimitReached": false,
       "aggType": "",
       "arguments": {},
       "columnCustomDisplayInfos": {},
       "data": [
        [
         "HUMAN TRAFFICKING - INVOLUNTARY SERVITUDE",
         10,
         34,
         240.0
        ],
        [
         "BRIBERY",
         1,
         3,
         200.0
        ],
        [
         "PICKPOCKET",
         52,
         140,
         169.23
        ],
        [
         "SHOTS FIRED AT MOVING VEHICLE, TRAIN OR AIRCRAFT",
         78,
         162,
         107.69
        ],
        [
         "FIREARMS RESTRAINING ORDER (FIREARMS RO)",
         1,
         2,
         100.0
        ],
        [
         "DOCUMENT WORTHLESS ($200.01 & OVER)",
         8,
         16,
         100.0
        ],
        [
         "CRUELTY TO ANIMALS",
         34,
         68,
         100.0
        ],
        [
         "VEHICLE, STOLEN - OTHER (MOTORIZED SCOOTERS, BIKES, ETC)",
         131,
         230,
         75.57
        ],
        [
         "TILL TAP - PETTY ($950 & UNDER)",
         4,
         7,
         75.0
        ],
        [
         "THEFT OF IDENTITY",
         6466,
         10788,
         66.84
        ],
        [
         "CHILD ABANDONMENT",
         3,
         5,
         66.67
        ],
        [
         "THEFT FROM MOTOR VEHICLE - GRAND ($950.01 AND OVER)",
         4657,
         7476,
         60.53
        ],
        [
         "PIMPING",
         33,
         52,
         57.58
        ],
        [
         "DISHONEST EMPLOYEE - GRAND THEFT",
         7,
         10,
         42.86
        ],
        [
         "RECKLESS DRIVING",
         54,
         77,
         42.59
        ],
        [
         "VIOLATION OF TEMPORARY RESTRAINING ORDER",
         153,
         218,
         42.48
        ],
        [
         "STALKING",
         105,
         148,
         40.95
        ],
        [
         "LETTERS, LEWD  -  TELEPHONE CALLS, LEWD",
         1375,
         1925,
         40.0
        ],
        [
         "CRM AGNST CHLD (13 OR UNDER) (14-15 & SUSP 10 YRS OLDER)",
         300,
         414,
         38.0
        ],
        [
         "BOMB SCARE",
         75,
         102,
         36.0
        ],
        [
         "PANDERING",
         26,
         34,
         30.77
        ],
        [
         "THEFT-GRAND ($950.01 & OVER)EXCPT,GUNS,FOWL,LIVESTK,PROD",
         5185,
         6625,
         27.77
        ],
        [
         "BATTERY ON A FIREFIGHTER",
         45,
         57,
         26.67
        ],
        [
         "CHILD PORNOGRAPHY",
         47,
         59,
         25.53
        ],
        [
         "RAPE, FORCIBLE",
         724,
         900,
         24.31
        ],
        [
         "CREDIT CARDS, FRAUD USE ($950.01 & OVER)",
         21,
         26,
         23.81
        ],
        [
         "LEWD/LASCIVIOUS ACTS WITH CHILD",
         17,
         21,
         23.53
        ],
        [
         "SHOPLIFTING-GRAND THEFT ($950.01 & OVER)",
         510,
         628,
         23.14
        ],
        [
         "VEHICLE - ATTEMPT STOLEN",
         516,
         624,
         20.93
        ],
        [
         "THEFT FROM PERSON - ATTEMPT",
         24,
         29,
         20.83
        ],
        [
         "KIDNAPPING",
         156,
         188,
         20.51
        ],
        [
         "CONTEMPT OF COURT",
         566,
         675,
         19.26
        ],
        [
         "SEXUAL PENETRATION W/FOREIGN OBJECT",
         261,
         311,
         19.16
        ],
        [
         "DISCHARGE FIREARMS/SHOTS FIRED",
         578,
         687,
         18.86
        ],
        [
         "VEHICLE - STOLEN",
         20429,
         23617,
         15.61
        ],
        [
         "CRIMINAL HOMICIDE",
         346,
         400,
         15.61
        ],
        [
         "RAPE, ATTEMPTED",
         66,
         75,
         13.64
        ],
        [
         "FAILURE TO YIELD",
         251,
         279,
         11.16
        ],
        [
         "SODOMY/SEXUAL CONTACT B/W PENIS OF ONE PERS TO ANUS OTH",
         108,
         120,
         11.11
        ],
        [
         "WEAPONS POSSESSION/BOMBING",
         9,
         10,
         11.11
        ],
        [
         "ASSAULT WITH DEADLY WEAPON, AGGRAVATED ASSAULT",
         11488,
         12717,
         10.7
        ],
        [
         "BRANDISH WEAPON",
         3074,
         3370,
         9.63
        ],
        [
         "VIOLATION OF COURT ORDER",
         1375,
         1502,
         9.24
        ],
        [
         "BIKE - STOLEN",
         1986,
         2156,
         8.56
        ],
        [
         "INTIMATE PARTNER - AGGRAVATED ASSAULT",
         2836,
         3062,
         7.97
        ],
        [
         "BURGLARY FROM VEHICLE",
         12487,
         13476,
         7.92
        ],
        [
         "VANDALISM - FELONY ($400 & OVER, ALL CHURCH VANDALISMS)",
         12737,
         13676,
         7.37
        ],
        [
         "CHILD ANNOYING (17YRS & UNDER)",
         195,
         209,
         7.18
        ],
        [
         "THEFT PLAIN - PETTY ($950 & UNDER)",
         10444,
         11171,
         6.96
        ],
        [
         "PEEPING TOM",
         75,
         80,
         6.67
        ],
        [
         "ROBBERY",
         6877,
         7330,
         6.59
        ],
        [
         "THEFT FROM MOTOR VEHICLE - ATTEMPT",
         246,
         259,
         5.28
        ],
        [
         "VIOLATION OF RESTRAINING ORDER",
         2594,
         2722,
         4.93
        ],
        [
         "BUNCO, GRAND THEFT",
         1146,
         1199,
         4.62
        ],
        [
         "DOCUMENT FORGERY / STOLEN FELONY",
         607,
         635,
         4.61
        ],
        [
         "DISTURBING THE PEACE",
         309,
         322,
         4.21
        ],
        [
         "EMBEZZLEMENT, GRAND THEFT ($950.01 & OVER)",
         777,
         804,
         3.47
        ],
        [
         "INDECENT EXPOSURE",
         253,
         261,
         3.16
        ],
        [
         "CRIMINAL THREATS - NO WEAPON DISPLAYED",
         4146,
         4269,
         2.97
        ],
        [
         "BATTERY WITH SEXUAL CONTACT",
         871,
         895,
         2.76
        ],
        [
         "ATTEMPTED ROBBERY",
         1119,
         1145,
         2.32
        ],
        [
         "BATTERY POLICE (SIMPLE)",
         618,
         627,
         1.46
        ],
        [
         "THROWING OBJECT AT MOVING VEHICLE",
         193,
         195,
         1.04
        ],
        [
         "SEX,UNLAWFUL(INC MUTUAL CONSENT, PENETRATION W/ FRGN OBJ",
         217,
         219,
         0.92
        ],
        [
         "INTIMATE PARTNER - SIMPLE ASSAULT",
         10713,
         10758,
         0.42
        ],
        [
         "BIKE - ATTEMPTED STOLEN",
         3,
         3,
         0.0
        ],
        [
         "CONSPIRACY",
         5,
         5,
         0.0
        ],
        [
         "PICKPOCKET, ATTEMPT",
         1,
         1,
         0.0
        ],
        [
         "GRAND THEFT / INSURANCE FRAUD",
         2,
         2,
         0.0
        ],
        [
         "MANSLAUGHTER, NEGLIGENT",
         3,
         3,
         0.0
        ],
        [
         "BATTERY - SIMPLE ASSAULT",
         16230,
         16156,
         -0.46
        ],
        [
         "RESISTING ARREST",
         215,
         214,
         -0.47
        ],
        [
         "LEWD CONDUCT",
         151,
         150,
         -0.66
        ],
        [
         "BURGLARY",
         12482,
         12230,
         -2.02
        ],
        [
         "TRESPASSING",
         2840,
         2766,
         -2.61
        ],
        [
         "ORAL COPULATION",
         144,
         140,
         -2.78
        ],
        [
         "FALSE POLICE REPORT",
         29,
         28,
         -3.45
        ],
        [
         "OTHER ASSAULT",
         1029,
         992,
         -3.6
        ],
        [
         "ARSON",
         660,
         630,
         -4.55
        ],
        [
         "CHILD STEALING",
         104,
         99,
         -4.81
        ],
        [
         "SEX OFFENDER REGISTRANT OUT OF COMPLIANCE",
         221,
         209,
         -5.43
        ],
        [
         "FALSE IMPRISONMENT",
         70,
         66,
         -5.71
        ],
        [
         "THEFT, PERSON",
         956,
         901,
         -5.75
        ],
        [
         "THREATENING PHONE CALLS/LETTERS",
         123,
         115,
         -6.5
        ],
        [
         "CHILD NEGLECT (SEE 300 W.I.C.)",
         261,
         243,
         -6.9
        ],
        [
         "ILLEGAL DUMPING",
         29,
         27,
         -6.9
        ],
        [
         "SHOTS FIRED AT INHABITED DWELLING",
         417,
         388,
         -6.95
        ],
        [
         "KIDNAPPING - GRAND ATTEMPT",
         54,
         50,
         -7.41
        ],
        [
         "VANDALISM - MISDEAMEANOR ($399 OR UNDER)",
         6906,
         6334,
         -8.28
        ],
        [
         "CHILD ABUSE (PHYSICAL) - AGGRAVATED ASSAULT",
         144,
         132,
         -8.33
        ],
        [
         "OTHER MISCELLANEOUS CRIME",
         1671,
         1520,
         -9.04
        ],
        [
         "COUNTERFEIT",
         33,
         30,
         -9.09
        ],
        [
         "THEFT PLAIN - ATTEMPT",
         126,
         114,
         -9.52
        ],
        [
         "HUMAN TRAFFICKING - COMMERCIAL SEX ACTS",
         110,
         99,
         -10.0
        ],
        [
         "CHILD ABUSE (PHYSICAL) - SIMPLE ASSAULT",
         782,
         701,
         -10.36
        ],
        [
         "DOCUMENT WORTHLESS ($200 & UNDER)",
         9,
         8,
         -11.11
        ],
        [
         "UNAUTHORIZED COMPUTER ACCESS",
         126,
         112,
         -11.11
        ],
        [
         "BURGLARY, ATTEMPTED",
         915,
         808,
         -11.69
        ],
        [
         "EXTORTION",
         408,
         360,
         -11.76
        ],
        [
         "THEFT FROM MOTOR VEHICLE - PETTY ($950 & UNDER)",
         9479,
         8251,
         -12.95
        ],
        [
         "BUNCO, ATTEMPT",
         84,
         72,
         -14.29
        ],
        [
         "SHOPLIFTING - PETTY THEFT ($950 & UNDER)",
         3522,
         2940,
         -16.52
        ],
        [
         "DRIVING WITHOUT OWNER CONSENT (DWOC)",
         49,
         40,
         -18.37
        ],
        [
         "BURGLARY FROM VEHICLE, ATTEMPTED",
         179,
         146,
         -18.44
        ],
        [
         "PURSE SNATCHING",
         32,
         26,
         -18.75
        ],
        [
         "BOAT - STOLEN",
         30,
         24,
         -20.0
        ],
        [
         "BUNCO, PETTY THEFT",
         552,
         437,
         -20.83
        ],
        [
         "PROWLER",
         50,
         39,
         -22.0
        ],
        [
         "DRUNK ROLL",
         4,
         3,
         -25.0
        ],
        [
         "DEFRAUDING INNKEEPER/THEFT OF SERVICES, $950 & UNDER",
         81,
         60,
         -25.93
        ],
        [
         "EMBEZZLEMENT, PETTY THEFT ($950 & UNDER)",
         23,
         16,
         -30.43
        ],
        [
         "PURSE SNATCHING - ATTEMPT",
         3,
         2,
         -33.33
        ],
        [
         "THEFT, COIN MACHINE - GRAND ($950.01 & OVER)",
         3,
         2,
         -33.33
        ],
        [
         "SHOPLIFTING - ATTEMPT",
         30,
         18,
         -40.0
        ],
        [
         "DRUGS, TO A MINOR",
         5,
         3,
         -40.0
        ],
        [
         "DEFRAUDING INNKEEPER/THEFT OF SERVICES, OVER $950.01",
         20,
         11,
         -45.0
        ],
        [
         "ASSAULT WITH DEADLY WEAPON ON POLICE OFFICER",
         397,
         217,
         -45.34
        ],
        [
         "LYNCHING - ATTEMPTED",
         4,
         2,
         -50.0
        ],
        [
         "PETTY THEFT - AUTO REPAIR",
         4,
         2,
         -50.0
        ],
        [
         "DISRUPT SCHOOL",
         4,
         2,
         -50.0
        ],
        [
         "THEFT, COIN MACHINE - PETTY ($950 & UNDER)",
         8,
         4,
         -50.0
        ],
        [
         "TILL TAP - GRAND THEFT ($950.01 & OVER)",
         2,
         1,
         -50.0
        ],
        [
         "CREDIT CARDS, FRAUD USE ($950 & UNDER",
         23,
         10,
         -56.52
        ],
        [
         "DISHONEST EMPLOYEE - PETTY THEFT",
         7,
         3,
         -57.14
        ],
        [
         "REPLICA FIREARMS(SALE,DISPLAY,MANUFACTURE OR DISTRIBUTE)",
         5,
         2,
         -60.0
        ],
        [
         "CONTRIBUTING",
         10,
         2,
         -80.0
        ],
        [
         "LYNCHING",
         10,
         1,
         -90.0
        ]
       ],
       "datasetInfos": [
        {
         "name": "_sqldf",
         "schema": {
          "fields": [
           {
            "metadata": {},
            "name": "crime_description",
            "nullable": true,
            "type": "string"
           },
           {
            "metadata": {},
            "name": "crime_cnt_2020",
            "nullable": false,
            "type": "long"
           },
           {
            "metadata": {},
            "name": "crime_cnt_2021",
            "nullable": false,
            "type": "long"
           },
           {
            "metadata": {},
            "name": "percentage_increase_in_crimes",
            "nullable": true,
            "type": "double"
           }
          ],
          "type": "struct"
         },
         "tableIdentifier": null,
         "typeStr": "pyspark.sql.connect.dataframe.DataFrame"
        }
       ],
       "dbfsResultPath": null,
       "isJsonSchema": true,
       "metadata": {
        "dataframeName": "_sqldf",
        "executionCount": 105
       },
       "overflow": false,
       "plotOptions": {
        "customPlotOptions": {},
        "displayType": "table",
        "pivotAggregation": null,
        "pivotColumns": null,
        "xColumns": null,
        "yColumns": null
       },
       "removedWidgets": [],
       "schema": [
        {
         "metadata": "{}",
         "name": "crime_description",
         "type": "\"string\""
        },
        {
         "metadata": "{}",
         "name": "crime_cnt_2020",
         "type": "\"long\""
        },
        {
         "metadata": "{}",
         "name": "crime_cnt_2021",
         "type": "\"long\""
        },
        {
         "metadata": "{}",
         "name": "percentage_increase_in_crimes",
         "type": "\"double\""
        }
       ],
       "type": "table"
      }
     },
     "output_type": "display_data"
    }
   ],
   "source": [
    "%sql\n",
    "\n",
    "-- 3. For above question, would your answer change if the increase in crime in reported in % increase in crimes vs. total increase in crimes (i.e. just number)?\n",
    "-- Expected columns - year, crime description, crime reported in 2021, crime reported in 2022, % increase in crimes\n",
    "\n",
    "with cte1 as (\n",
    "  select crime_year, crime_desc as crimes_2020, count(crime_rpt_no) as crime_cnt_2020\n",
    "  from la_crime_vw\n",
    "  where crime_year = 2020\n",
    "  group by crime_year, crime_desc\n",
    "),\n",
    "cte2 as (\n",
    "  select crime_year, crime_desc as crimes_2021, count(crime_rpt_no) as crime_cnt_2021\n",
    "  from la_crime_vw\n",
    "  where crime_year = 2021\n",
    "  group by crime_year, crime_desc\n",
    ")\n",
    "select distinct cte1.crimes_2020 as crime_description, cte1.crime_cnt_2020, cte2.crime_cnt_2021,round(((((cte2.crime_cnt_2021)-(cte1.crime_cnt_2020))/cte1.crime_cnt_2020)*100),2) as percentage_increase_in_crimes\n",
    "from cte1 join cte2\n",
    "on cte1.crimes_2020 = cte2.crimes_2021\n",
    "group by crime_description, cte1.crime_cnt_2020, cte2.crime_cnt_2021\n",
    "order by percentage_increase_in_crimes desc"
   ]
  },
  {
   "cell_type": "code",
   "execution_count": 0,
   "metadata": {
    "application/vnd.databricks.v1+cell": {
     "cellMetadata": {
      "byteLimit": 2048000,
      "implicitDf": true,
      "rowLimit": 10000
     },
     "inputWidgets": {},
     "nuid": "275ddef6-90c8-42ee-bba8-a7db8f780330",
     "showTitle": false,
     "title": ""
    }
   },
   "outputs": [
    {
     "output_type": "display_data",
     "data": {
      "text/html": [
       "<style scoped>\n",
       "  .table-result-container {\n",
       "    max-height: 300px;\n",
       "    overflow: auto;\n",
       "  }\n",
       "  table, th, td {\n",
       "    border: 1px solid black;\n",
       "    border-collapse: collapse;\n",
       "  }\n",
       "  th, td {\n",
       "    padding: 5px;\n",
       "  }\n",
       "  th {\n",
       "    text-align: left;\n",
       "  }\n",
       "</style><div class='table-result-container'><table class='table-result'><thead style='background-color: white'><tr><th>crime_year</th><th>season</th><th>crime_desc</th><th>crime_count</th><th>crime_rank</th></tr></thead><tbody><tr><td>2022</td><td>Fall</td><td>THEFT OF IDENTITY</td><td>6360</td><td>1</td></tr><tr><td>2022</td><td>Fall</td><td>VEHICLE - STOLEN</td><td>5775</td><td>2</td></tr><tr><td>2022</td><td>Fall</td><td>BATTERY - SIMPLE ASSAULT</td><td>4462</td><td>3</td></tr><tr><td>2022</td><td>Spring</td><td>VEHICLE - STOLEN</td><td>6440</td><td>1</td></tr><tr><td>2022</td><td>Spring</td><td>THEFT OF IDENTITY</td><td>6026</td><td>2</td></tr><tr><td>2022</td><td>Spring</td><td>BATTERY - SIMPLE ASSAULT</td><td>4651</td><td>3</td></tr><tr><td>2022</td><td>Summer</td><td>VEHICLE - STOLEN</td><td>6364</td><td>1</td></tr><tr><td>2022</td><td>Summer</td><td>THEFT OF IDENTITY</td><td>5448</td><td>2</td></tr><tr><td>2022</td><td>Summer</td><td>BATTERY - SIMPLE ASSAULT</td><td>4771</td><td>3</td></tr><tr><td>2022</td><td>Winter</td><td>VEHICLE - STOLEN</td><td>6177</td><td>1</td></tr><tr><td>2022</td><td>Winter</td><td>THEFT OF IDENTITY</td><td>4446</td><td>2</td></tr><tr><td>2022</td><td>Winter</td><td>BATTERY - SIMPLE ASSAULT</td><td>4169</td><td>3</td></tr></tbody></table></div>"
      ]
     },
     "metadata": {
      "application/vnd.databricks.v1+output": {
       "addedWidgets": {},
       "aggData": [],
       "aggError": "",
       "aggOverflow": false,
       "aggSchema": [],
       "aggSeriesLimitReached": false,
       "aggType": "",
       "arguments": {},
       "columnCustomDisplayInfos": {},
       "data": [
        [
         2022,
         "Fall",
         "THEFT OF IDENTITY",
         6360,
         1
        ],
        [
         2022,
         "Fall",
         "VEHICLE - STOLEN",
         5775,
         2
        ],
        [
         2022,
         "Fall",
         "BATTERY - SIMPLE ASSAULT",
         4462,
         3
        ],
        [
         2022,
         "Spring",
         "VEHICLE - STOLEN",
         6440,
         1
        ],
        [
         2022,
         "Spring",
         "THEFT OF IDENTITY",
         6026,
         2
        ],
        [
         2022,
         "Spring",
         "BATTERY - SIMPLE ASSAULT",
         4651,
         3
        ],
        [
         2022,
         "Summer",
         "VEHICLE - STOLEN",
         6364,
         1
        ],
        [
         2022,
         "Summer",
         "THEFT OF IDENTITY",
         5448,
         2
        ],
        [
         2022,
         "Summer",
         "BATTERY - SIMPLE ASSAULT",
         4771,
         3
        ],
        [
         2022,
         "Winter",
         "VEHICLE - STOLEN",
         6177,
         1
        ],
        [
         2022,
         "Winter",
         "THEFT OF IDENTITY",
         4446,
         2
        ],
        [
         2022,
         "Winter",
         "BATTERY - SIMPLE ASSAULT",
         4169,
         3
        ]
       ],
       "datasetInfos": [
        {
         "name": "_sqldf",
         "schema": {
          "fields": [
           {
            "metadata": {},
            "name": "crime_year",
            "nullable": true,
            "type": "integer"
           },
           {
            "metadata": {},
            "name": "season",
            "nullable": false,
            "type": "string"
           },
           {
            "metadata": {},
            "name": "crime_desc",
            "nullable": true,
            "type": "string"
           },
           {
            "metadata": {},
            "name": "crime_count",
            "nullable": false,
            "type": "long"
           },
           {
            "metadata": {},
            "name": "crime_rank",
            "nullable": false,
            "type": "integer"
           }
          ],
          "type": "struct"
         },
         "tableIdentifier": null,
         "typeStr": "pyspark.sql.connect.dataframe.DataFrame"
        }
       ],
       "dbfsResultPath": null,
       "isJsonSchema": true,
       "metadata": {
        "dataframeName": "_sqldf",
        "executionCount": 132
       },
       "overflow": false,
       "plotOptions": {
        "customPlotOptions": {},
        "displayType": "table",
        "pivotAggregation": null,
        "pivotColumns": null,
        "xColumns": null,
        "yColumns": null
       },
       "removedWidgets": [],
       "schema": [
        {
         "metadata": "{}",
         "name": "crime_year",
         "type": "\"integer\""
        },
        {
         "metadata": "{}",
         "name": "season",
         "type": "\"string\""
        },
        {
         "metadata": "{}",
         "name": "crime_desc",
         "type": "\"string\""
        },
        {
         "metadata": "{}",
         "name": "crime_count",
         "type": "\"long\""
        },
        {
         "metadata": "{}",
         "name": "crime_rank",
         "type": "\"integer\""
        }
       ],
       "type": "table"
      }
     },
     "output_type": "display_data"
    }
   ],
   "source": [
    "%sql\n",
    "/* 4. Imagine a year has four seasons - \n",
    "  > Winter: Jan - Mar\n",
    "  > Spring: Apr - Jun \n",
    "  > Summer: Jul - Sep \n",
    "  > Fall: Oct - Dec\n",
    "For the year 2022, what are the top three crime by each season?\n",
    "\n",
    "Expected columns - Year, Season (i.e Winter, Spring), Crime description, crime count, Rank of crime (in top 3)\n",
    "\n",
    "# Sample output (not real data) - \n",
    "# 2022    Winter  Theft 2000 1\n",
    "# 2022    Winter  Break-in 1000 2\n",
    "# 2022    Winter  Car Jacking 500 3\n",
    "# ....remaining 3 seasons....... */\n",
    "\n",
    "SELECT *\n",
    "FROM (\n",
    "  SELECT \n",
    "  crime_year,\n",
    "  CASE\n",
    "    WHEN crime_month BETWEEN 1 AND 3 THEN 'Winter'\n",
    "    WHEN crime_month BETWEEN 4 AND 6 THEN 'Spring'\n",
    "    WHEN crime_month BETWEEN 7 AND 9 THEN 'Summer'\n",
    "    ELSE 'Fall'\n",
    "  END AS season,\n",
    "  crime_desc,\n",
    "  COUNT(crime_rpt_no) AS crime_count,\n",
    "  RANK() OVER (PARTITION BY crime_year, CASE\n",
    "      WHEN crime_month BETWEEN 1 AND 3 THEN 'Winter'\n",
    "      WHEN crime_month BETWEEN 4 AND 6 THEN 'Spring'\n",
    "      WHEN crime_month BETWEEN 7 AND 9 THEN 'Summer'\n",
    "      ELSE 'Fall'\n",
    "    END ORDER BY COUNT(crime_rpt_no) DESC) AS crime_rank\n",
    "FROM\n",
    "  la_crime_vw\n",
    "WHERE\n",
    "  crime_year = 2022 \n",
    "GROUP BY\n",
    "  crime_year,\n",
    "  CASE\n",
    "    WHEN crime_month BETWEEN 1 AND 3 THEN 'Winter'\n",
    "    WHEN crime_month BETWEEN 4 AND 6 THEN 'Spring'\n",
    "    WHEN crime_month BETWEEN 7 AND 9 THEN 'Summer'\n",
    "    ELSE 'Fall'\n",
    "  END,\n",
    "  crime_desc\n",
    ") subquery\n",
    "where crime_rank <= 3\n",
    "\n"
   ]
  },
  {
   "cell_type": "code",
   "execution_count": 0,
   "metadata": {
    "application/vnd.databricks.v1+cell": {
     "cellMetadata": {
      "byteLimit": 2048000,
      "implicitDf": true,
      "rowLimit": 10000
     },
     "inputWidgets": {},
     "nuid": "6aad00de-9151-4335-a731-399b8fd7efcc",
     "showTitle": false,
     "title": ""
    }
   },
   "outputs": [
    {
     "output_type": "display_data",
     "data": {
      "text/html": [
       "<style scoped>\n",
       "  .table-result-container {\n",
       "    max-height: 300px;\n",
       "    overflow: auto;\n",
       "  }\n",
       "  table, th, td {\n",
       "    border: 1px solid black;\n",
       "    border-collapse: collapse;\n",
       "  }\n",
       "  th, td {\n",
       "    padding: 5px;\n",
       "  }\n",
       "  th {\n",
       "    text-align: left;\n",
       "  }\n",
       "</style><div class='table-result-container'><table class='table-result'><thead style='background-color: white'><tr><th>crime_year</th><th>age_bracket</th><th>crime_desc</th><th>crime_count</th><th>crime_rank</th></tr></thead><tbody><tr><td>2022</td><td>20-29</td><td>THEFT OF IDENTITY</td><td>4856</td><td>1</td></tr><tr><td>2022</td><td>20-29</td><td>BURGLARY FROM VEHICLE</td><td>4087</td><td>2</td></tr><tr><td>2022</td><td>20-29</td><td>BATTERY - SIMPLE ASSAULT</td><td>3879</td><td>3</td></tr><tr><td>2022</td><td>30-39</td><td>THEFT OF IDENTITY</td><td>7332</td><td>1</td></tr><tr><td>2022</td><td>30-39</td><td>BURGLARY FROM VEHICLE</td><td>4516</td><td>2</td></tr><tr><td>2022</td><td>30-39</td><td>BATTERY - SIMPLE ASSAULT</td><td>3997</td><td>3</td></tr><tr><td>2022</td><td>40-49</td><td>THEFT OF IDENTITY</td><td>4365</td><td>1</td></tr><tr><td>2022</td><td>40-49</td><td>BATTERY - SIMPLE ASSAULT</td><td>2999</td><td>2</td></tr><tr><td>2022</td><td>40-49</td><td>BURGLARY FROM VEHICLE</td><td>2441</td><td>3</td></tr><tr><td>2022</td><td>50-59</td><td>BATTERY - SIMPLE ASSAULT</td><td>2829</td><td>1</td></tr><tr><td>2022</td><td>50-59</td><td>THEFT OF IDENTITY</td><td>2675</td><td>2</td></tr><tr><td>2022</td><td>50-59</td><td>ASSAULT WITH DEADLY WEAPON, AGGRAVATED ASSAULT</td><td>1694</td><td>3</td></tr></tbody></table></div>"
      ]
     },
     "metadata": {
      "application/vnd.databricks.v1+output": {
       "addedWidgets": {},
       "aggData": [],
       "aggError": "",
       "aggOverflow": false,
       "aggSchema": [],
       "aggSeriesLimitReached": false,
       "aggType": "",
       "arguments": {},
       "columnCustomDisplayInfos": {},
       "data": [
        [
         2022,
         "20-29",
         "THEFT OF IDENTITY",
         4856,
         1
        ],
        [
         2022,
         "20-29",
         "BURGLARY FROM VEHICLE",
         4087,
         2
        ],
        [
         2022,
         "20-29",
         "BATTERY - SIMPLE ASSAULT",
         3879,
         3
        ],
        [
         2022,
         "30-39",
         "THEFT OF IDENTITY",
         7332,
         1
        ],
        [
         2022,
         "30-39",
         "BURGLARY FROM VEHICLE",
         4516,
         2
        ],
        [
         2022,
         "30-39",
         "BATTERY - SIMPLE ASSAULT",
         3997,
         3
        ],
        [
         2022,
         "40-49",
         "THEFT OF IDENTITY",
         4365,
         1
        ],
        [
         2022,
         "40-49",
         "BATTERY - SIMPLE ASSAULT",
         2999,
         2
        ],
        [
         2022,
         "40-49",
         "BURGLARY FROM VEHICLE",
         2441,
         3
        ],
        [
         2022,
         "50-59",
         "BATTERY - SIMPLE ASSAULT",
         2829,
         1
        ],
        [
         2022,
         "50-59",
         "THEFT OF IDENTITY",
         2675,
         2
        ],
        [
         2022,
         "50-59",
         "ASSAULT WITH DEADLY WEAPON, AGGRAVATED ASSAULT",
         1694,
         3
        ]
       ],
       "datasetInfos": [
        {
         "name": "_sqldf",
         "schema": {
          "fields": [
           {
            "metadata": {},
            "name": "crime_year",
            "nullable": true,
            "type": "integer"
           },
           {
            "metadata": {},
            "name": "age_bracket",
            "nullable": true,
            "type": "string"
           },
           {
            "metadata": {},
            "name": "crime_desc",
            "nullable": true,
            "type": "string"
           },
           {
            "metadata": {},
            "name": "crime_count",
            "nullable": false,
            "type": "long"
           },
           {
            "metadata": {},
            "name": "crime_rank",
            "nullable": false,
            "type": "integer"
           }
          ],
          "type": "struct"
         },
         "tableIdentifier": null,
         "typeStr": "pyspark.sql.connect.dataframe.DataFrame"
        }
       ],
       "dbfsResultPath": null,
       "isJsonSchema": true,
       "metadata": {
        "dataframeName": "_sqldf",
        "executionCount": 145
       },
       "overflow": false,
       "plotOptions": {
        "customPlotOptions": {},
        "displayType": "table",
        "pivotAggregation": null,
        "pivotColumns": null,
        "xColumns": null,
        "yColumns": null
       },
       "removedWidgets": [],
       "schema": [
        {
         "metadata": "{}",
         "name": "crime_year",
         "type": "\"integer\""
        },
        {
         "metadata": "{}",
         "name": "age_bracket",
         "type": "\"string\""
        },
        {
         "metadata": "{}",
         "name": "crime_desc",
         "type": "\"string\""
        },
        {
         "metadata": "{}",
         "name": "crime_count",
         "type": "\"long\""
        },
        {
         "metadata": "{}",
         "name": "crime_rank",
         "type": "\"integer\""
        }
       ],
       "type": "table"
      }
     },
     "output_type": "display_data"
    }
   ],
   "source": [
    "%sql\n",
    "\n",
    "/*\n",
    "5. What are the top three crimes faced by this age bracket in 2022: 20-29; 30-39; 40-49; 50-59 (the age of the perpetrator is within that age bracket)\n",
    "\n",
    "Expected columns - Year, Age Bracket, Crime Description, crime count, Rank of crime\n",
    "\n",
    "Sample output (not real data) - \n",
    "2022 20-29    Theft   2000 1\n",
    "2022 20-29    Break-in   1000 2\n",
    "2022 20-29    Car Jacking   500 3\n",
    "....remaining age brackets ....... */\n",
    "\n",
    "select * \n",
    "from (\n",
    "  SELECT crime_year, \n",
    "CASE\n",
    "    WHEN vict_age BETWEEN 20 AND 29 THEN '20-29'\n",
    "    WHEN vict_age BETWEEN 30 AND 39 THEN '30-39'\n",
    "    WHEN vict_age BETWEEN 40 AND 49 THEN '40-49'\n",
    "    WHEN vict_age BETWEEN 50 AND 59 THEN '50-59'\n",
    "  END AS age_bracket,\n",
    "crime_desc, count(crime_rpt_no) AS crime_count,\n",
    "RANK() OVER (PARTITION BY crime_year, CASE\n",
    "    WHEN vict_age BETWEEN 20 AND 29 THEN '20-29'\n",
    "    WHEN vict_age BETWEEN 30 AND 39 THEN '30-39'\n",
    "    WHEN vict_age BETWEEN 40 AND 49 THEN '40-49'\n",
    "    WHEN vict_age BETWEEN 50 AND 59 THEN '50-59'\n",
    " END ORDER BY COUNT(crime_rpt_no) DESC) AS crime_rank\n",
    "FROM\n",
    "  la_crime_vw\n",
    "WHERE\n",
    "  crime_year = 2022 and \n",
    "  (vict_age BETWEEN 20 AND 29 OR vict_age BETWEEN 30 AND 39 OR vict_age BETWEEN 40 AND 49 OR vict_age BETWEEN 50 AND 59)\n",
    "GROUP BY crime_year, \n",
    "CASE\n",
    "    WHEN vict_age BETWEEN 20 AND 29 THEN '20-29'\n",
    "    WHEN vict_age BETWEEN 30 AND 39 THEN '30-39'\n",
    "    WHEN vict_age BETWEEN 40 AND 49 THEN '40-49'\n",
    "    WHEN vict_age BETWEEN 50 AND 59 THEN '50-59'\n",
    "  END, crime_desc)\n",
    "  subquery\n",
    "  where crime_rank <=3\n",
    "\n"
   ]
  },
  {
   "cell_type": "code",
   "execution_count": 0,
   "metadata": {
    "application/vnd.databricks.v1+cell": {
     "cellMetadata": {
      "byteLimit": 2048000,
      "implicitDf": true,
      "rowLimit": 10000
     },
     "inputWidgets": {},
     "nuid": "f8538a56-c9c5-48c5-8c1c-f68338e57548",
     "showTitle": false,
     "title": ""
    }
   },
   "outputs": [
    {
     "output_type": "display_data",
     "data": {
      "text/html": [
       "<style scoped>\n",
       "  .table-result-container {\n",
       "    max-height: 300px;\n",
       "    overflow: auto;\n",
       "  }\n",
       "  table, th, td {\n",
       "    border: 1px solid black;\n",
       "    border-collapse: collapse;\n",
       "  }\n",
       "  th, td {\n",
       "    padding: 5px;\n",
       "  }\n",
       "  th {\n",
       "    text-align: left;\n",
       "  }\n",
       "</style><div class='table-result-container'><table class='table-result'><thead style='background-color: white'><tr><th>crime_year</th><th>crime_desc</th><th>crime_count</th><th>rank_crime</th></tr></thead><tbody><tr><td>2022</td><td>VEHICLE - STOLEN</td><td>24756</td><td>1</td></tr><tr><td>2022</td><td>THEFT OF IDENTITY</td><td>22280</td><td>2</td></tr><tr><td>2022</td><td>BATTERY - SIMPLE ASSAULT</td><td>18053</td><td>3</td></tr><tr><td>2023</td><td>VEHICLE - STOLEN</td><td>8929</td><td>1</td></tr><tr><td>2023</td><td>THEFT OF IDENTITY</td><td>7669</td><td>2</td></tr><tr><td>2023</td><td>BATTERY - SIMPLE ASSAULT</td><td>6956</td><td>3</td></tr></tbody></table></div>"
      ]
     },
     "metadata": {
      "application/vnd.databricks.v1+output": {
       "addedWidgets": {},
       "aggData": [],
       "aggError": "",
       "aggOverflow": false,
       "aggSchema": [],
       "aggSeriesLimitReached": false,
       "aggType": "",
       "arguments": {},
       "columnCustomDisplayInfos": {},
       "data": [
        [
         2022,
         "VEHICLE - STOLEN",
         24756,
         1
        ],
        [
         2022,
         "THEFT OF IDENTITY",
         22280,
         2
        ],
        [
         2022,
         "BATTERY - SIMPLE ASSAULT",
         18053,
         3
        ],
        [
         2023,
         "VEHICLE - STOLEN",
         8929,
         1
        ],
        [
         2023,
         "THEFT OF IDENTITY",
         7669,
         2
        ],
        [
         2023,
         "BATTERY - SIMPLE ASSAULT",
         6956,
         3
        ]
       ],
       "datasetInfos": [
        {
         "name": "_sqldf",
         "schema": {
          "fields": [
           {
            "metadata": {},
            "name": "crime_year",
            "nullable": true,
            "type": "integer"
           },
           {
            "metadata": {},
            "name": "crime_desc",
            "nullable": true,
            "type": "string"
           },
           {
            "metadata": {},
            "name": "crime_count",
            "nullable": false,
            "type": "long"
           },
           {
            "metadata": {},
            "name": "rank_crime",
            "nullable": false,
            "type": "integer"
           }
          ],
          "type": "struct"
         },
         "tableIdentifier": null,
         "typeStr": "pyspark.sql.connect.dataframe.DataFrame"
        }
       ],
       "dbfsResultPath": null,
       "isJsonSchema": true,
       "metadata": {
        "dataframeName": "_sqldf",
        "executionCount": 208
       },
       "overflow": false,
       "plotOptions": {
        "customPlotOptions": {},
        "displayType": "table",
        "pivotAggregation": null,
        "pivotColumns": null,
        "xColumns": null,
        "yColumns": null
       },
       "removedWidgets": [],
       "schema": [
        {
         "metadata": "{}",
         "name": "crime_year",
         "type": "\"integer\""
        },
        {
         "metadata": "{}",
         "name": "crime_desc",
         "type": "\"string\""
        },
        {
         "metadata": "{}",
         "name": "crime_count",
         "type": "\"long\""
        },
        {
         "metadata": "{}",
         "name": "rank_crime",
         "type": "\"integer\""
        }
       ],
       "type": "table"
      }
     },
     "output_type": "display_data"
    }
   ],
   "source": [
    "%sql\n",
    "/* 6. Show the top three crimes that occured on the street for years 2022-2023? (Hint: Show top three crimes by year). \n",
    "\n",
    "Expected columns - Year, Crime Description, crime count, Rank of crime\n",
    "\n",
    "Sample output (not real data) - \n",
    "2022 Auto Theft 1000 1\n",
    "2022 Retail Theft 500 2\n",
    "2022 Break-in 100 3 */\n",
    "\n",
    "select * \n",
    "from (\n",
    "select crime_year, crime_desc, count(crime_rpt_no) as crime_count,\n",
    "rank() over(partition by crime_year order by count(crime_rpt_no) desc) as rank_crime\n",
    "from la_crime_vw\n",
    "where crime_year between 2022 and 2023 \n",
    "group by crime_year, crime_desc\n",
    "order by crime_count desc\n",
    ") subquery\n",
    "where \n",
    "rank_crime <= 3"
   ]
  },
  {
   "cell_type": "code",
   "execution_count": 0,
   "metadata": {
    "application/vnd.databricks.v1+cell": {
     "cellMetadata": {
      "byteLimit": 2048000,
      "implicitDf": true,
      "rowLimit": 10000
     },
     "inputWidgets": {},
     "nuid": "e40ec2e4-ae9b-42b4-a908-cb30deaa21ec",
     "showTitle": false,
     "title": ""
    }
   },
   "outputs": [],
   "source": [
    "from pyspark.sql import SparkSession\n",
    "from pyspark.sql.functions import to_timestamp\n",
    "spark = SparkSession.builder.getOrCreate()\n",
    "\n",
    "la_df = la_df.withColumn(\"Date Rptd\", to_timestamp(la_df[\"Date Rptd\"]))\n",
    "la_df = la_df.withColumn(\"DATE OCC\", to_timestamp(la_df[\"DATE OCC\"]))"
   ]
  },
  {
   "cell_type": "code",
   "execution_count": 0,
   "metadata": {
    "application/vnd.databricks.v1+cell": {
     "cellMetadata": {
      "byteLimit": 2048000,
      "rowLimit": 10000
     },
     "collapsed": true,
     "inputWidgets": {},
     "nuid": "05d0b8d0-059b-4622-b826-ef1ec54ae66a",
     "showTitle": false,
     "title": ""
    }
   },
   "outputs": [
    {
     "output_type": "stream",
     "name": "stdout",
     "output_type": "stream",
     "text": [
      "root\n |-- DR_NO: integer (nullable = true)\n |-- Date Rptd: timestamp (nullable = true)\n |-- DATE OCC: timestamp (nullable = true)\n |-- TIME OCC: integer (nullable = true)\n |-- AREA: integer (nullable = true)\n |-- AREA NAME: string (nullable = true)\n |-- Rpt Dist No: integer (nullable = true)\n |-- Part 1-2: integer (nullable = true)\n |-- Crm Cd: integer (nullable = true)\n |-- Crm Cd Desc: string (nullable = true)\n |-- Mocodes: string (nullable = true)\n |-- Vict Age: integer (nullable = true)\n |-- Vict Sex: string (nullable = true)\n |-- Vict Descent: string (nullable = true)\n |-- Premis Cd: integer (nullable = true)\n |-- Premis Desc: string (nullable = true)\n |-- Weapon Used Cd: integer (nullable = true)\n |-- Weapon Desc: string (nullable = true)\n |-- Status: string (nullable = true)\n |-- Status Desc: string (nullable = true)\n |-- Crm Cd 1: integer (nullable = true)\n |-- Crm Cd 2: integer (nullable = true)\n |-- Crm Cd 3: integer (nullable = true)\n |-- Crm Cd 4: integer (nullable = true)\n |-- LOCATION: string (nullable = true)\n |-- Cross Street: string (nullable = true)\n |-- LAT: double (nullable = true)\n |-- LON: double (nullable = true)\n\n"
     ]
    }
   ],
   "source": [
    "la_df.printSchema()"
   ]
  }
 ],
 "metadata": {
  "application/vnd.databricks.v1+notebook": {
   "dashboards": [],
   "environmentMetadata": null,
   "language": "python",
   "notebookMetadata": {
    "mostRecentlyExecutedCommandWithImplicitDF": {
     "commandId": 127650755447169,
     "dataframes": [
      "_sqldf"
     ]
    },
    "pythonIndentUnit": 4
   },
   "notebookName": "240522 assignment2_LA crimes_s",
   "widgets": {}
  }
 },
 "nbformat": 4,
 "nbformat_minor": 0
}
